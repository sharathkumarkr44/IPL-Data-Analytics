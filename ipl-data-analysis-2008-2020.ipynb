{
 "cells": [
  {
   "cell_type": "code",
   "execution_count": 1,
   "id": "6b00ae8c",
   "metadata": {
    "_cell_guid": "b1076dfc-b9ad-4769-8c92-a6c4dae69d19",
    "_uuid": "8f2839f25d086af736a60e9eeb907d3b93b6e0e5",
    "execution": {
     "iopub.execute_input": "2023-02-11T23:18:24.862402Z",
     "iopub.status.busy": "2023-02-11T23:18:24.861823Z",
     "iopub.status.idle": "2023-02-11T23:18:24.881705Z",
     "shell.execute_reply": "2023-02-11T23:18:24.880531Z"
    },
    "papermill": {
     "duration": 0.074259,
     "end_time": "2023-02-11T23:18:24.884517",
     "exception": false,
     "start_time": "2023-02-11T23:18:24.810258",
     "status": "completed"
    },
    "tags": []
   },
   "outputs": [
    {
     "name": "stdout",
     "output_type": "stream",
     "text": [
      "/kaggle/input/ipl-complete-dataset-20082020/IPL Matches 2008-2020.csv\n",
      "/kaggle/input/ipl-complete-dataset-20082020/IPL Ball-by-Ball 2008-2020.csv\n"
     ]
    }
   ],
   "source": [
    "# This Python 3 environment comes with many helpful analytics libraries installed\n",
    "# It is defined by the kaggle/python Docker image: https://github.com/kaggle/docker-python\n",
    "# For example, here's several helpful packages to load\n",
    "\n",
    "import numpy as np # linear algebra\n",
    "import pandas as pd # data processing, CSV file I/O (e.g. pd.read_csv)\n",
    "\n",
    "# Input data files are available in the read-only \"../input/\" directory\n",
    "# For example, running this (by clicking run or pressing Shift+Enter) will list all files under the input directory\n",
    "\n",
    "import os\n",
    "for dirname, _, filenames in os.walk('/kaggle/input'):\n",
    "    for filename in filenames:\n",
    "        print(os.path.join(dirname, filename))\n",
    "\n",
    "# You can write up to 20GB to the current directory (/kaggle/working/) that gets preserved as output when you create a version using \"Save & Run All\" \n",
    "# You can also write temporary files to /kaggle/temp/, but they won't be saved outside of the current session"
   ]
  },
  {
   "cell_type": "code",
   "execution_count": 2,
   "id": "6db83521",
   "metadata": {
    "execution": {
     "iopub.execute_input": "2023-02-11T23:18:24.986201Z",
     "iopub.status.busy": "2023-02-11T23:18:24.985893Z",
     "iopub.status.idle": "2023-02-11T23:18:25.040706Z",
     "shell.execute_reply": "2023-02-11T23:18:25.039662Z"
    },
    "papermill": {
     "duration": 0.10884,
     "end_time": "2023-02-11T23:18:25.042938",
     "exception": false,
     "start_time": "2023-02-11T23:18:24.934098",
     "status": "completed"
    },
    "tags": []
   },
   "outputs": [
    {
     "data": {
      "text/html": [
       "<div>\n",
       "<style scoped>\n",
       "    .dataframe tbody tr th:only-of-type {\n",
       "        vertical-align: middle;\n",
       "    }\n",
       "\n",
       "    .dataframe tbody tr th {\n",
       "        vertical-align: top;\n",
       "    }\n",
       "\n",
       "    .dataframe thead th {\n",
       "        text-align: right;\n",
       "    }\n",
       "</style>\n",
       "<table border=\"1\" class=\"dataframe\">\n",
       "  <thead>\n",
       "    <tr style=\"text-align: right;\">\n",
       "      <th></th>\n",
       "      <th>id</th>\n",
       "      <th>city</th>\n",
       "      <th>date</th>\n",
       "      <th>player_of_match</th>\n",
       "      <th>venue</th>\n",
       "      <th>neutral_venue</th>\n",
       "      <th>team1</th>\n",
       "      <th>team2</th>\n",
       "      <th>toss_winner</th>\n",
       "      <th>toss_decision</th>\n",
       "      <th>winner</th>\n",
       "      <th>result</th>\n",
       "      <th>result_margin</th>\n",
       "      <th>eliminator</th>\n",
       "      <th>method</th>\n",
       "      <th>umpire1</th>\n",
       "      <th>umpire2</th>\n",
       "    </tr>\n",
       "  </thead>\n",
       "  <tbody>\n",
       "    <tr>\n",
       "      <th>0</th>\n",
       "      <td>335982</td>\n",
       "      <td>Bangalore</td>\n",
       "      <td>2008-04-18</td>\n",
       "      <td>BB McCullum</td>\n",
       "      <td>M Chinnaswamy Stadium</td>\n",
       "      <td>0</td>\n",
       "      <td>Royal Challengers Bangalore</td>\n",
       "      <td>Kolkata Knight Riders</td>\n",
       "      <td>Royal Challengers Bangalore</td>\n",
       "      <td>field</td>\n",
       "      <td>Kolkata Knight Riders</td>\n",
       "      <td>runs</td>\n",
       "      <td>140.0</td>\n",
       "      <td>N</td>\n",
       "      <td>NaN</td>\n",
       "      <td>Asad Rauf</td>\n",
       "      <td>RE Koertzen</td>\n",
       "    </tr>\n",
       "    <tr>\n",
       "      <th>1</th>\n",
       "      <td>335983</td>\n",
       "      <td>Chandigarh</td>\n",
       "      <td>2008-04-19</td>\n",
       "      <td>MEK Hussey</td>\n",
       "      <td>Punjab Cricket Association Stadium, Mohali</td>\n",
       "      <td>0</td>\n",
       "      <td>Kings XI Punjab</td>\n",
       "      <td>Chennai Super Kings</td>\n",
       "      <td>Chennai Super Kings</td>\n",
       "      <td>bat</td>\n",
       "      <td>Chennai Super Kings</td>\n",
       "      <td>runs</td>\n",
       "      <td>33.0</td>\n",
       "      <td>N</td>\n",
       "      <td>NaN</td>\n",
       "      <td>MR Benson</td>\n",
       "      <td>SL Shastri</td>\n",
       "    </tr>\n",
       "    <tr>\n",
       "      <th>2</th>\n",
       "      <td>335984</td>\n",
       "      <td>Delhi</td>\n",
       "      <td>2008-04-19</td>\n",
       "      <td>MF Maharoof</td>\n",
       "      <td>Feroz Shah Kotla</td>\n",
       "      <td>0</td>\n",
       "      <td>Delhi Daredevils</td>\n",
       "      <td>Rajasthan Royals</td>\n",
       "      <td>Rajasthan Royals</td>\n",
       "      <td>bat</td>\n",
       "      <td>Delhi Daredevils</td>\n",
       "      <td>wickets</td>\n",
       "      <td>9.0</td>\n",
       "      <td>N</td>\n",
       "      <td>NaN</td>\n",
       "      <td>Aleem Dar</td>\n",
       "      <td>GA Pratapkumar</td>\n",
       "    </tr>\n",
       "    <tr>\n",
       "      <th>3</th>\n",
       "      <td>335985</td>\n",
       "      <td>Mumbai</td>\n",
       "      <td>2008-04-20</td>\n",
       "      <td>MV Boucher</td>\n",
       "      <td>Wankhede Stadium</td>\n",
       "      <td>0</td>\n",
       "      <td>Mumbai Indians</td>\n",
       "      <td>Royal Challengers Bangalore</td>\n",
       "      <td>Mumbai Indians</td>\n",
       "      <td>bat</td>\n",
       "      <td>Royal Challengers Bangalore</td>\n",
       "      <td>wickets</td>\n",
       "      <td>5.0</td>\n",
       "      <td>N</td>\n",
       "      <td>NaN</td>\n",
       "      <td>SJ Davis</td>\n",
       "      <td>DJ Harper</td>\n",
       "    </tr>\n",
       "    <tr>\n",
       "      <th>4</th>\n",
       "      <td>335986</td>\n",
       "      <td>Kolkata</td>\n",
       "      <td>2008-04-20</td>\n",
       "      <td>DJ Hussey</td>\n",
       "      <td>Eden Gardens</td>\n",
       "      <td>0</td>\n",
       "      <td>Kolkata Knight Riders</td>\n",
       "      <td>Deccan Chargers</td>\n",
       "      <td>Deccan Chargers</td>\n",
       "      <td>bat</td>\n",
       "      <td>Kolkata Knight Riders</td>\n",
       "      <td>wickets</td>\n",
       "      <td>5.0</td>\n",
       "      <td>N</td>\n",
       "      <td>NaN</td>\n",
       "      <td>BF Bowden</td>\n",
       "      <td>K Hariharan</td>\n",
       "    </tr>\n",
       "  </tbody>\n",
       "</table>\n",
       "</div>"
      ],
      "text/plain": [
       "       id        city        date player_of_match  \\\n",
       "0  335982   Bangalore  2008-04-18     BB McCullum   \n",
       "1  335983  Chandigarh  2008-04-19      MEK Hussey   \n",
       "2  335984       Delhi  2008-04-19     MF Maharoof   \n",
       "3  335985      Mumbai  2008-04-20      MV Boucher   \n",
       "4  335986     Kolkata  2008-04-20       DJ Hussey   \n",
       "\n",
       "                                        venue  neutral_venue  \\\n",
       "0                       M Chinnaswamy Stadium              0   \n",
       "1  Punjab Cricket Association Stadium, Mohali              0   \n",
       "2                            Feroz Shah Kotla              0   \n",
       "3                            Wankhede Stadium              0   \n",
       "4                                Eden Gardens              0   \n",
       "\n",
       "                         team1                        team2  \\\n",
       "0  Royal Challengers Bangalore        Kolkata Knight Riders   \n",
       "1              Kings XI Punjab          Chennai Super Kings   \n",
       "2             Delhi Daredevils             Rajasthan Royals   \n",
       "3               Mumbai Indians  Royal Challengers Bangalore   \n",
       "4        Kolkata Knight Riders              Deccan Chargers   \n",
       "\n",
       "                   toss_winner toss_decision                       winner  \\\n",
       "0  Royal Challengers Bangalore         field        Kolkata Knight Riders   \n",
       "1          Chennai Super Kings           bat          Chennai Super Kings   \n",
       "2             Rajasthan Royals           bat             Delhi Daredevils   \n",
       "3               Mumbai Indians           bat  Royal Challengers Bangalore   \n",
       "4              Deccan Chargers           bat        Kolkata Knight Riders   \n",
       "\n",
       "    result  result_margin eliminator method    umpire1         umpire2  \n",
       "0     runs          140.0          N    NaN  Asad Rauf     RE Koertzen  \n",
       "1     runs           33.0          N    NaN  MR Benson      SL Shastri  \n",
       "2  wickets            9.0          N    NaN  Aleem Dar  GA Pratapkumar  \n",
       "3  wickets            5.0          N    NaN   SJ Davis       DJ Harper  \n",
       "4  wickets            5.0          N    NaN  BF Bowden     K Hariharan  "
      ]
     },
     "execution_count": 2,
     "metadata": {},
     "output_type": "execute_result"
    }
   ],
   "source": [
    "#Read IPL data\n",
    "IPL_match = pd.read_csv('/kaggle/input/ipl-complete-dataset-20082020/IPL Matches 2008-2020.csv')\n",
    "IPL_match.head()"
   ]
  },
  {
   "cell_type": "markdown",
   "id": "26e28407",
   "metadata": {
    "papermill": {
     "duration": 0.04797,
     "end_time": "2023-02-11T23:18:25.140559",
     "exception": false,
     "start_time": "2023-02-11T23:18:25.092589",
     "status": "completed"
    },
    "tags": []
   },
   "source": [
    "# **Who won most man of the match ?**\n",
    "\n"
   ]
  },
  {
   "cell_type": "code",
   "execution_count": 3,
   "id": "cd272666",
   "metadata": {
    "execution": {
     "iopub.execute_input": "2023-02-11T23:18:25.241750Z",
     "iopub.status.busy": "2023-02-11T23:18:25.240638Z",
     "iopub.status.idle": "2023-02-11T23:18:25.255938Z",
     "shell.execute_reply": "2023-02-11T23:18:25.255003Z"
    },
    "papermill": {
     "duration": 0.068621,
     "end_time": "2023-02-11T23:18:25.258236",
     "exception": false,
     "start_time": "2023-02-11T23:18:25.189615",
     "status": "completed"
    },
    "tags": []
   },
   "outputs": [
    {
     "data": {
      "text/plain": [
       "AB de Villiers    23\n",
       "CH Gayle          22\n",
       "RG Sharma         18\n",
       "DA Warner         17\n",
       "MS Dhoni          17\n",
       "                  ..\n",
       "S Anirudha         1\n",
       "M Kartik           1\n",
       "R McLaren          1\n",
       "RJ Harris          1\n",
       "PJ Cummins         1\n",
       "Name: player_of_match, Length: 233, dtype: int64"
      ]
     },
     "execution_count": 3,
     "metadata": {},
     "output_type": "execute_result"
    }
   ],
   "source": [
    "#getting count of MOM awards for each player\n",
    "IPL_match.player_of_match.value_counts()"
   ]
  },
  {
   "cell_type": "code",
   "execution_count": 4,
   "id": "818cce5a",
   "metadata": {
    "execution": {
     "iopub.execute_input": "2023-02-11T23:18:25.359509Z",
     "iopub.status.busy": "2023-02-11T23:18:25.358953Z",
     "iopub.status.idle": "2023-02-11T23:18:25.366713Z",
     "shell.execute_reply": "2023-02-11T23:18:25.366120Z"
    },
    "papermill": {
     "duration": 0.060452,
     "end_time": "2023-02-11T23:18:25.368912",
     "exception": false,
     "start_time": "2023-02-11T23:18:25.308460",
     "status": "completed"
    },
    "tags": []
   },
   "outputs": [
    {
     "data": {
      "text/plain": [
       "AB de Villiers    23\n",
       "CH Gayle          22\n",
       "RG Sharma         18\n",
       "DA Warner         17\n",
       "MS Dhoni          17\n",
       "Name: player_of_match, dtype: int64"
      ]
     },
     "execution_count": 4,
     "metadata": {},
     "output_type": "execute_result"
    }
   ],
   "source": [
    "#top 5 players who won most MOM awards\n",
    "\n",
    "Top5_MOM = IPL_match.player_of_match.value_counts()[0:5]\n",
    "Top5_MOM"
   ]
  },
  {
   "cell_type": "markdown",
   "id": "c6e960ef",
   "metadata": {
    "papermill": {
     "duration": 0.049298,
     "end_time": "2023-02-11T23:18:25.469040",
     "exception": false,
     "start_time": "2023-02-11T23:18:25.419742",
     "status": "completed"
    },
    "tags": []
   },
   "source": [
    "**Lets Plot Top5 MOM award winners**"
   ]
  },
  {
   "cell_type": "code",
   "execution_count": 5,
   "id": "87e4021e",
   "metadata": {
    "execution": {
     "iopub.execute_input": "2023-02-11T23:18:25.570715Z",
     "iopub.status.busy": "2023-02-11T23:18:25.570420Z",
     "iopub.status.idle": "2023-02-11T23:18:25.841347Z",
     "shell.execute_reply": "2023-02-11T23:18:25.840626Z"
    },
    "papermill": {
     "duration": 0.324723,
     "end_time": "2023-02-11T23:18:25.843516",
     "exception": false,
     "start_time": "2023-02-11T23:18:25.518793",
     "status": "completed"
    },
    "tags": []
   },
   "outputs": [
    {
     "data": {
      "image/png": "[encoded data removed]",
      "text/plain": [
       "<Figure size 432x288 with 1 Axes>"
      ]
     },
     "metadata": {
      "needs_background": "light"
     },
     "output_type": "display_data"
    }
   ],
   "source": [
    "import matplotlib.pyplot as plt\n",
    "\n",
    "plt.bar(Top5_MOM.keys(), Top5_MOM, color ='green',width = 0.4)\n",
    "plt.xlabel(\"Players\")\n",
    "plt.ylabel(\"No. of MOM awards\")\n",
    "plt.title(\"Top5 MOM award winners\")\n",
    "plt.show()"
   ]
  },
  {
   "cell_type": "markdown",
   "id": "71bad6af",
   "metadata": {
    "papermill": {
     "duration": 0.05035,
     "end_time": "2023-02-11T23:18:25.944571",
     "exception": false,
     "start_time": "2023-02-11T23:18:25.894221",
     "status": "completed"
    },
    "tags": []
   },
   "source": [
    "# Which City had the most number of matches hosted ?"
   ]
  },
  {
   "cell_type": "code",
   "execution_count": 6,
   "id": "664e9208",
   "metadata": {
    "execution": {
     "iopub.execute_input": "2023-02-11T23:18:26.049195Z",
     "iopub.status.busy": "2023-02-11T23:18:26.048732Z",
     "iopub.status.idle": "2023-02-11T23:18:26.055593Z",
     "shell.execute_reply": "2023-02-11T23:18:26.054947Z"
    },
    "papermill": {
     "duration": 0.062287,
     "end_time": "2023-02-11T23:18:26.057540",
     "exception": false,
     "start_time": "2023-02-11T23:18:25.995253",
     "status": "completed"
    },
    "tags": []
   },
   "outputs": [
    {
     "data": {
      "text/plain": [
       "Mumbai            101\n",
       "Kolkata            77\n",
       "Delhi              74\n",
       "Bangalore          65\n",
       "Hyderabad          64\n",
       "Chennai            57\n",
       "Chandigarh         56\n",
       "Jaipur             47\n",
       "Pune               38\n",
       "Abu Dhabi          29\n",
       "Dubai              26\n",
       "Bengaluru          15\n",
       "Durban             15\n",
       "Visakhapatnam      13\n",
       "Ahmedabad          12\n",
       "Sharjah            12\n",
       "Centurion          12\n",
       "Rajkot             10\n",
       "Dharamsala          9\n",
       "Indore              9\n",
       "Johannesburg        8\n",
       "Cuttack             7\n",
       "Cape Town           7\n",
       "Port Elizabeth      7\n",
       "Ranchi              7\n",
       "Raipur              6\n",
       "Kochi               5\n",
       "Kanpur              4\n",
       "East London         3\n",
       "Kimberley           3\n",
       "Nagpur              3\n",
       "Bloemfontein        2\n",
       "Name: city, dtype: int64"
      ]
     },
     "execution_count": 6,
     "metadata": {},
     "output_type": "execute_result"
    }
   ],
   "source": [
    "#getting count of number of matches played in each cities\n",
    "IPL_match.city.value_counts()"
   ]
  },
  {
   "cell_type": "code",
   "execution_count": 7,
   "id": "eee60431",
   "metadata": {
    "execution": {
     "iopub.execute_input": "2023-02-11T23:18:26.161246Z",
     "iopub.status.busy": "2023-02-11T23:18:26.160511Z",
     "iopub.status.idle": "2023-02-11T23:18:26.167971Z",
     "shell.execute_reply": "2023-02-11T23:18:26.166951Z"
    },
    "papermill": {
     "duration": 0.061751,
     "end_time": "2023-02-11T23:18:26.170059",
     "exception": false,
     "start_time": "2023-02-11T23:18:26.108308",
     "status": "completed"
    },
    "tags": []
   },
   "outputs": [
    {
     "data": {
      "text/plain": [
       "Mumbai       101\n",
       "Kolkata       77\n",
       "Delhi         74\n",
       "Bangalore     65\n",
       "Hyderabad     64\n",
       "Name: city, dtype: int64"
      ]
     },
     "execution_count": 7,
     "metadata": {},
     "output_type": "execute_result"
    }
   ],
   "source": [
    "Top5_cities = IPL_match.city.value_counts()[0:5]\n",
    "Top5_cities"
   ]
  },
  {
   "cell_type": "code",
   "execution_count": 8,
   "id": "e86e3ed6",
   "metadata": {
    "execution": {
     "iopub.execute_input": "2023-02-11T23:18:26.276900Z",
     "iopub.status.busy": "2023-02-11T23:18:26.276440Z",
     "iopub.status.idle": "2023-02-11T23:18:26.394417Z",
     "shell.execute_reply": "2023-02-11T23:18:26.393279Z"
    },
    "papermill": {
     "duration": 0.174644,
     "end_time": "2023-02-11T23:18:26.396956",
     "exception": false,
     "start_time": "2023-02-11T23:18:26.222312",
     "status": "completed"
    },
    "tags": []
   },
   "outputs": [
    {
     "data": {
      "image/png": "[encoded data removed]",
      "text/plain": [
       "<Figure size 360x576 with 1 Axes>"
      ]
     },
     "metadata": {},
     "output_type": "display_data"
    }
   ],
   "source": [
    "#Lets plot in on pie\n",
    "plt.figure(figsize=(5,8))\n",
    "plt.pie(Top5_cities, labels=Top5_cities.keys(),autopct='%0.1f%%')\n",
    "plt.title(\"Top5 Cities with IPL hosted\")\n",
    "plt.show()"
   ]
  },
  {
   "cell_type": "markdown",
   "id": "dd37fd93",
   "metadata": {
    "papermill": {
     "duration": 0.052733,
     "end_time": "2023-02-11T23:18:26.502506",
     "exception": false,
     "start_time": "2023-02-11T23:18:26.449773",
     "status": "completed"
    },
    "tags": []
   },
   "source": [
    "# Which Team won most number of matches?"
   ]
  },
  {
   "cell_type": "code",
   "execution_count": 9,
   "id": "9a298b46",
   "metadata": {
    "execution": {
     "iopub.execute_input": "2023-02-11T23:18:26.609714Z",
     "iopub.status.busy": "2023-02-11T23:18:26.609414Z",
     "iopub.status.idle": "2023-02-11T23:18:26.615075Z",
     "shell.execute_reply": "2023-02-11T23:18:26.613766Z"
    },
    "papermill": {
     "duration": 0.062443,
     "end_time": "2023-02-11T23:18:26.617338",
     "exception": false,
     "start_time": "2023-02-11T23:18:26.554895",
     "status": "completed"
    },
    "tags": []
   },
   "outputs": [],
   "source": [
    "Match_winners = IPL_match.winner.value_counts()"
   ]
  },
  {
   "cell_type": "code",
   "execution_count": 10,
   "id": "d3bd0cf6",
   "metadata": {
    "execution": {
     "iopub.execute_input": "2023-02-11T23:18:26.726721Z",
     "iopub.status.busy": "2023-02-11T23:18:26.726176Z",
     "iopub.status.idle": "2023-02-11T23:18:26.954734Z",
     "shell.execute_reply": "2023-02-11T23:18:26.953827Z"
    },
    "papermill": {
     "duration": 0.285851,
     "end_time": "2023-02-11T23:18:26.957416",
     "exception": false,
     "start_time": "2023-02-11T23:18:26.671565",
     "status": "completed"
    },
    "tags": []
   },
   "outputs": [
    {
     "data": {
      "image/png": "[encoded data removed]",
      "text/plain": [
       "<Figure size 504x504 with 1 Axes>"
      ]
     },
     "metadata": {
      "needs_background": "light"
     },
     "output_type": "display_data"
    }
   ],
   "source": [
    "plt.figure(figsize=(7,7))\n",
    "plt.style.use('ggplot')\n",
    "plt.barh(Match_winners.keys(), Match_winners, color ='Blue')\n",
    "plt.xlabel(\"Teams\")\n",
    "plt.ylabel(\"No. of Wins\")\n",
    "plt.title(\"Teams Win rate till 2020\")\n",
    "plt.show()"
   ]
  },
  {
   "cell_type": "markdown",
   "id": "889bd545",
   "metadata": {
    "papermill": {
     "duration": 0.055356,
     "end_time": "2023-02-11T23:18:27.066332",
     "exception": false,
     "start_time": "2023-02-11T23:18:27.010976",
     "status": "completed"
    },
    "tags": []
   },
   "source": [
    "# Who won most toss ?"
   ]
  },
  {
   "cell_type": "code",
   "execution_count": 11,
   "id": "94726cf9",
   "metadata": {
    "execution": {
     "iopub.execute_input": "2023-02-11T23:18:27.177010Z",
     "iopub.status.busy": "2023-02-11T23:18:27.176564Z",
     "iopub.status.idle": "2023-02-11T23:18:27.185513Z",
     "shell.execute_reply": "2023-02-11T23:18:27.184599Z"
    },
    "papermill": {
     "duration": 0.067314,
     "end_time": "2023-02-11T23:18:27.187556",
     "exception": false,
     "start_time": "2023-02-11T23:18:27.120242",
     "status": "completed"
    },
    "tags": []
   },
   "outputs": [
    {
     "data": {
      "text/plain": [
       "Mumbai Indians                 106\n",
       "Kolkata Knight Riders           98\n",
       "Chennai Super Kings             97\n",
       "Royal Challengers Bangalore     87\n",
       "Rajasthan Royals                87\n",
       "Kings XI Punjab                 85\n",
       "Delhi Daredevils                80\n",
       "Sunrisers Hyderabad             57\n",
       "Deccan Chargers                 43\n",
       "Pune Warriors                   20\n",
       "Delhi Capitals                  20\n",
       "Gujarat Lions                   15\n",
       "Kochi Tuskers Kerala             8\n",
       "Rising Pune Supergiants          7\n",
       "Rising Pune Supergiant           6\n",
       "Name: toss_winner, dtype: int64"
      ]
     },
     "execution_count": 11,
     "metadata": {},
     "output_type": "execute_result"
    }
   ],
   "source": [
    "IPL_match.toss_winner.value_counts()"
   ]
  },
  {
   "cell_type": "markdown",
   "id": "e8047705",
   "metadata": {
    "papermill": {
     "duration": 0.055362,
     "end_time": "2023-02-11T23:18:27.297562",
     "exception": false,
     "start_time": "2023-02-11T23:18:27.242200",
     "status": "completed"
    },
    "tags": []
   },
   "source": [
    "# In Which Season was most matches played?"
   ]
  },
  {
   "cell_type": "code",
   "execution_count": 12,
   "id": "71bdbed7",
   "metadata": {
    "execution": {
     "iopub.execute_input": "2023-02-11T23:18:27.407639Z",
     "iopub.status.busy": "2023-02-11T23:18:27.407125Z",
     "iopub.status.idle": "2023-02-11T23:18:27.413877Z",
     "shell.execute_reply": "2023-02-11T23:18:27.413157Z"
    },
    "papermill": {
     "duration": 0.064239,
     "end_time": "2023-02-11T23:18:27.416068",
     "exception": false,
     "start_time": "2023-02-11T23:18:27.351829",
     "status": "completed"
    },
    "tags": []
   },
   "outputs": [],
   "source": [
    "#lets get the year from date\n",
    "\n",
    "IPL_match['Year'] = pd.DatetimeIndex(IPL_match['date']).year"
   ]
  },
  {
   "cell_type": "code",
   "execution_count": 13,
   "id": "0f47ef1b",
   "metadata": {
    "execution": {
     "iopub.execute_input": "2023-02-11T23:18:27.526558Z",
     "iopub.status.busy": "2023-02-11T23:18:27.525973Z",
     "iopub.status.idle": "2023-02-11T23:18:27.716293Z",
     "shell.execute_reply": "2023-02-11T23:18:27.715208Z"
    },
    "papermill": {
     "duration": 0.248565,
     "end_time": "2023-02-11T23:18:27.718728",
     "exception": false,
     "start_time": "2023-02-11T23:18:27.470163",
     "status": "completed"
    },
    "tags": []
   },
   "outputs": [
    {
     "data": {
      "image/png": "[encoded data removed]",
      "text/plain": [
       "<Figure size 720x504 with 1 Axes>"
      ]
     },
     "metadata": {},
     "output_type": "display_data"
    }
   ],
   "source": [
    "plt.figure(figsize=(10,7))\n",
    "plt.bar(IPL_match.Year.value_counts().keys(), IPL_match.Year.value_counts(), color ='maroon',width = 0.4)\n",
    "plt.xlabel(\"Year\")\n",
    "plt.ylabel(\"No. of Matches\")\n",
    "plt.title(\"Matches Played in each season\")\n",
    "plt.show()"
   ]
  },
  {
   "cell_type": "markdown",
   "id": "30bab6d0",
   "metadata": {
    "papermill": {
     "duration": 0.055225,
     "end_time": "2023-02-11T23:18:27.830262",
     "exception": false,
     "start_time": "2023-02-11T23:18:27.775037",
     "status": "completed"
    },
    "tags": []
   },
   "source": [
    "# What is the % of matches won by Batting first and Batting second ?"
   ]
  },
  {
   "cell_type": "code",
   "execution_count": 14,
   "id": "dd8bac20",
   "metadata": {
    "execution": {
     "iopub.execute_input": "2023-02-11T23:18:27.942712Z",
     "iopub.status.busy": "2023-02-11T23:18:27.942401Z",
     "iopub.status.idle": "2023-02-11T23:18:27.952176Z",
     "shell.execute_reply": "2023-02-11T23:18:27.951160Z"
    },
    "papermill": {
     "duration": 0.069833,
     "end_time": "2023-02-11T23:18:27.954752",
     "exception": false,
     "start_time": "2023-02-11T23:18:27.884919",
     "status": "completed"
    },
    "tags": []
   },
   "outputs": [],
   "source": [
    "#lets get data of matches won by batting first\n",
    "\n",
    "won_by_runs = IPL_match[IPL_match['result'] == 'runs']"
   ]
  },
  {
   "cell_type": "code",
   "execution_count": 15,
   "id": "33078ad4",
   "metadata": {
    "execution": {
     "iopub.execute_input": "2023-02-11T23:18:28.068253Z",
     "iopub.status.busy": "2023-02-11T23:18:28.067953Z",
     "iopub.status.idle": "2023-02-11T23:18:28.090406Z",
     "shell.execute_reply": "2023-02-11T23:18:28.089230Z"
    },
    "papermill": {
     "duration": 0.081531,
     "end_time": "2023-02-11T23:18:28.092565",
     "exception": false,
     "start_time": "2023-02-11T23:18:28.011034",
     "status": "completed"
    },
    "tags": []
   },
   "outputs": [
    {
     "data": {
      "text/html": [
       "<div>\n",
       "<style scoped>\n",
       "    .dataframe tbody tr th:only-of-type {\n",
       "        vertical-align: middle;\n",
       "    }\n",
       "\n",
       "    .dataframe tbody tr th {\n",
       "        vertical-align: top;\n",
       "    }\n",
       "\n",
       "    .dataframe thead th {\n",
       "        text-align: right;\n",
       "    }\n",
       "</style>\n",
       "<table border=\"1\" class=\"dataframe\">\n",
       "  <thead>\n",
       "    <tr style=\"text-align: right;\">\n",
       "      <th></th>\n",
       "      <th>id</th>\n",
       "      <th>city</th>\n",
       "      <th>date</th>\n",
       "      <th>player_of_match</th>\n",
       "      <th>venue</th>\n",
       "      <th>neutral_venue</th>\n",
       "      <th>team1</th>\n",
       "      <th>team2</th>\n",
       "      <th>toss_winner</th>\n",
       "      <th>toss_decision</th>\n",
       "      <th>winner</th>\n",
       "      <th>result</th>\n",
       "      <th>result_margin</th>\n",
       "      <th>eliminator</th>\n",
       "      <th>method</th>\n",
       "      <th>umpire1</th>\n",
       "      <th>umpire2</th>\n",
       "      <th>Year</th>\n",
       "    </tr>\n",
       "  </thead>\n",
       "  <tbody>\n",
       "    <tr>\n",
       "      <th>0</th>\n",
       "      <td>335982</td>\n",
       "      <td>Bangalore</td>\n",
       "      <td>2008-04-18</td>\n",
       "      <td>BB McCullum</td>\n",
       "      <td>M Chinnaswamy Stadium</td>\n",
       "      <td>0</td>\n",
       "      <td>Royal Challengers Bangalore</td>\n",
       "      <td>Kolkata Knight Riders</td>\n",
       "      <td>Royal Challengers Bangalore</td>\n",
       "      <td>field</td>\n",
       "      <td>Kolkata Knight Riders</td>\n",
       "      <td>runs</td>\n",
       "      <td>140.0</td>\n",
       "      <td>N</td>\n",
       "      <td>NaN</td>\n",
       "      <td>Asad Rauf</td>\n",
       "      <td>RE Koertzen</td>\n",
       "      <td>2008</td>\n",
       "    </tr>\n",
       "    <tr>\n",
       "      <th>1</th>\n",
       "      <td>335983</td>\n",
       "      <td>Chandigarh</td>\n",
       "      <td>2008-04-19</td>\n",
       "      <td>MEK Hussey</td>\n",
       "      <td>Punjab Cricket Association Stadium, Mohali</td>\n",
       "      <td>0</td>\n",
       "      <td>Kings XI Punjab</td>\n",
       "      <td>Chennai Super Kings</td>\n",
       "      <td>Chennai Super Kings</td>\n",
       "      <td>bat</td>\n",
       "      <td>Chennai Super Kings</td>\n",
       "      <td>runs</td>\n",
       "      <td>33.0</td>\n",
       "      <td>N</td>\n",
       "      <td>NaN</td>\n",
       "      <td>MR Benson</td>\n",
       "      <td>SL Shastri</td>\n",
       "      <td>2008</td>\n",
       "    </tr>\n",
       "    <tr>\n",
       "      <th>7</th>\n",
       "      <td>335989</td>\n",
       "      <td>Chennai</td>\n",
       "      <td>2008-04-23</td>\n",
       "      <td>ML Hayden</td>\n",
       "      <td>MA Chidambaram Stadium, Chepauk</td>\n",
       "      <td>0</td>\n",
       "      <td>Chennai Super Kings</td>\n",
       "      <td>Mumbai Indians</td>\n",
       "      <td>Mumbai Indians</td>\n",
       "      <td>field</td>\n",
       "      <td>Chennai Super Kings</td>\n",
       "      <td>runs</td>\n",
       "      <td>6.0</td>\n",
       "      <td>N</td>\n",
       "      <td>NaN</td>\n",
       "      <td>DJ Harper</td>\n",
       "      <td>GA Pratapkumar</td>\n",
       "      <td>2008</td>\n",
       "    </tr>\n",
       "    <tr>\n",
       "      <th>9</th>\n",
       "      <td>335991</td>\n",
       "      <td>Chandigarh</td>\n",
       "      <td>2008-04-25</td>\n",
       "      <td>KC Sangakkara</td>\n",
       "      <td>Punjab Cricket Association Stadium, Mohali</td>\n",
       "      <td>0</td>\n",
       "      <td>Kings XI Punjab</td>\n",
       "      <td>Mumbai Indians</td>\n",
       "      <td>Mumbai Indians</td>\n",
       "      <td>field</td>\n",
       "      <td>Kings XI Punjab</td>\n",
       "      <td>runs</td>\n",
       "      <td>66.0</td>\n",
       "      <td>N</td>\n",
       "      <td>NaN</td>\n",
       "      <td>Aleem Dar</td>\n",
       "      <td>AM Saheba</td>\n",
       "      <td>2008</td>\n",
       "    </tr>\n",
       "    <tr>\n",
       "      <th>14</th>\n",
       "      <td>335996</td>\n",
       "      <td>Bangalore</td>\n",
       "      <td>2008-04-28</td>\n",
       "      <td>MS Dhoni</td>\n",
       "      <td>M Chinnaswamy Stadium</td>\n",
       "      <td>0</td>\n",
       "      <td>Royal Challengers Bangalore</td>\n",
       "      <td>Chennai Super Kings</td>\n",
       "      <td>Chennai Super Kings</td>\n",
       "      <td>bat</td>\n",
       "      <td>Chennai Super Kings</td>\n",
       "      <td>runs</td>\n",
       "      <td>13.0</td>\n",
       "      <td>N</td>\n",
       "      <td>NaN</td>\n",
       "      <td>BR Doctrove</td>\n",
       "      <td>RB Tiffin</td>\n",
       "      <td>2008</td>\n",
       "    </tr>\n",
       "  </tbody>\n",
       "</table>\n",
       "</div>"
      ],
      "text/plain": [
       "        id        city        date player_of_match  \\\n",
       "0   335982   Bangalore  2008-04-18     BB McCullum   \n",
       "1   335983  Chandigarh  2008-04-19      MEK Hussey   \n",
       "7   335989     Chennai  2008-04-23       ML Hayden   \n",
       "9   335991  Chandigarh  2008-04-25   KC Sangakkara   \n",
       "14  335996   Bangalore  2008-04-28        MS Dhoni   \n",
       "\n",
       "                                         venue  neutral_venue  \\\n",
       "0                        M Chinnaswamy Stadium              0   \n",
       "1   Punjab Cricket Association Stadium, Mohali              0   \n",
       "7              MA Chidambaram Stadium, Chepauk              0   \n",
       "9   Punjab Cricket Association Stadium, Mohali              0   \n",
       "14                       M Chinnaswamy Stadium              0   \n",
       "\n",
       "                          team1                  team2  \\\n",
       "0   Royal Challengers Bangalore  Kolkata Knight Riders   \n",
       "1               Kings XI Punjab    Chennai Super Kings   \n",
       "7           Chennai Super Kings         Mumbai Indians   \n",
       "9               Kings XI Punjab         Mumbai Indians   \n",
       "14  Royal Challengers Bangalore    Chennai Super Kings   \n",
       "\n",
       "                    toss_winner toss_decision                 winner result  \\\n",
       "0   Royal Challengers Bangalore         field  Kolkata Knight Riders   runs   \n",
       "1           Chennai Super Kings           bat    Chennai Super Kings   runs   \n",
       "7                Mumbai Indians         field    Chennai Super Kings   runs   \n",
       "9                Mumbai Indians         field        Kings XI Punjab   runs   \n",
       "14          Chennai Super Kings           bat    Chennai Super Kings   runs   \n",
       "\n",
       "    result_margin eliminator method      umpire1         umpire2  Year  \n",
       "0           140.0          N    NaN    Asad Rauf     RE Koertzen  2008  \n",
       "1            33.0          N    NaN    MR Benson      SL Shastri  2008  \n",
       "7             6.0          N    NaN    DJ Harper  GA Pratapkumar  2008  \n",
       "9            66.0          N    NaN    Aleem Dar       AM Saheba  2008  \n",
       "14           13.0          N    NaN  BR Doctrove       RB Tiffin  2008  "
      ]
     },
     "execution_count": 15,
     "metadata": {},
     "output_type": "execute_result"
    }
   ],
   "source": [
    "won_by_runs.head()"
   ]
  },
  {
   "cell_type": "code",
   "execution_count": 16,
   "id": "78e8a0c5",
   "metadata": {
    "execution": {
     "iopub.execute_input": "2023-02-11T23:18:28.205402Z",
     "iopub.status.busy": "2023-02-11T23:18:28.205062Z",
     "iopub.status.idle": "2023-02-11T23:18:28.211006Z",
     "shell.execute_reply": "2023-02-11T23:18:28.210083Z"
    },
    "papermill": {
     "duration": 0.06486,
     "end_time": "2023-02-11T23:18:28.213119",
     "exception": false,
     "start_time": "2023-02-11T23:18:28.148259",
     "status": "completed"
    },
    "tags": []
   },
   "outputs": [
    {
     "data": {
      "text/plain": [
       "(364, 18)"
      ]
     },
     "execution_count": 16,
     "metadata": {},
     "output_type": "execute_result"
    }
   ],
   "source": [
    "won_by_runs.shape"
   ]
  },
  {
   "cell_type": "code",
   "execution_count": 17,
   "id": "588bdf5c",
   "metadata": {
    "execution": {
     "iopub.execute_input": "2023-02-11T23:18:28.330279Z",
     "iopub.status.busy": "2023-02-11T23:18:28.329932Z",
     "iopub.status.idle": "2023-02-11T23:18:28.337240Z",
     "shell.execute_reply": "2023-02-11T23:18:28.336411Z"
    },
    "papermill": {
     "duration": 0.068263,
     "end_time": "2023-02-11T23:18:28.339490",
     "exception": false,
     "start_time": "2023-02-11T23:18:28.271227",
     "status": "completed"
    },
    "tags": []
   },
   "outputs": [],
   "source": [
    "#lets get data of matches won by Chasing\n",
    "\n",
    "won_by_wickets = IPL_match[IPL_match['result'] == 'wickets']"
   ]
  },
  {
   "cell_type": "code",
   "execution_count": 18,
   "id": "6e2ae176",
   "metadata": {
    "execution": {
     "iopub.execute_input": "2023-02-11T23:18:28.456518Z",
     "iopub.status.busy": "2023-02-11T23:18:28.456219Z",
     "iopub.status.idle": "2023-02-11T23:18:28.460857Z",
     "shell.execute_reply": "2023-02-11T23:18:28.460259Z"
    },
    "papermill": {
     "duration": 0.065985,
     "end_time": "2023-02-11T23:18:28.463316",
     "exception": false,
     "start_time": "2023-02-11T23:18:28.397331",
     "status": "completed"
    },
    "tags": []
   },
   "outputs": [
    {
     "data": {
      "text/plain": [
       "(435, 18)"
      ]
     },
     "execution_count": 18,
     "metadata": {},
     "output_type": "execute_result"
    }
   ],
   "source": [
    "won_by_wickets.shape"
   ]
  },
  {
   "cell_type": "code",
   "execution_count": 19,
   "id": "6fa610b0",
   "metadata": {
    "execution": {
     "iopub.execute_input": "2023-02-11T23:18:28.579913Z",
     "iopub.status.busy": "2023-02-11T23:18:28.579346Z",
     "iopub.status.idle": "2023-02-11T23:18:28.678613Z",
     "shell.execute_reply": "2023-02-11T23:18:28.677972Z"
    },
    "papermill": {
     "duration": 0.161636,
     "end_time": "2023-02-11T23:18:28.683172",
     "exception": false,
     "start_time": "2023-02-11T23:18:28.521536",
     "status": "completed"
    },
    "tags": []
   },
   "outputs": [
    {
     "data": {
      "image/png": "[encoded data removed]",
      "text/plain": [
       "<Figure size 576x576 with 1 Axes>"
      ]
     },
     "metadata": {},
     "output_type": "display_data"
    }
   ],
   "source": [
    "match_results = IPL_match['result'].value_counts()\n",
    "import matplotlib.pyplot as plt\n",
    "\n",
    "plt.figure(figsize=(8,8))\n",
    "plt.pie(match_results, labels=['Batting First','Chasing','Tie'],autopct='%0.1f%%')\n",
    "plt.title(\"Match results count\")\n",
    "plt.show()"
   ]
  },
  {
   "cell_type": "code",
   "execution_count": 20,
   "id": "c8ac9396",
   "metadata": {
    "execution": {
     "iopub.execute_input": "2023-02-11T23:18:28.850811Z",
     "iopub.status.busy": "2023-02-11T23:18:28.850525Z",
     "iopub.status.idle": "2023-02-11T23:18:29.121962Z",
     "shell.execute_reply": "2023-02-11T23:18:29.121271Z"
    },
    "papermill": {
     "duration": 0.334065,
     "end_time": "2023-02-11T23:18:29.124087",
     "exception": false,
     "start_time": "2023-02-11T23:18:28.790022",
     "status": "completed"
    },
    "tags": []
   },
   "outputs": [
    {
     "data": {
      "text/plain": [
       "array([[<AxesSubplot:title={'center':'result_margin'}>]], dtype=object)"
      ]
     },
     "execution_count": 20,
     "metadata": {},
     "output_type": "execute_result"
    },
    {
     "data": {
      "image/png": "[encoded data removed]",
      "text/plain": [
       "<Figure size 432x288 with 1 Axes>"
      ]
     },
     "metadata": {},
     "output_type": "display_data"
    }
   ],
   "source": [
    "won_by_runs.hist(column='result_margin', color='brown')"
   ]
  },
  {
   "cell_type": "markdown",
   "id": "031bc29e",
   "metadata": {
    "papermill": {
     "duration": 0.059268,
     "end_time": "2023-02-11T23:18:29.242094",
     "exception": false,
     "start_time": "2023-02-11T23:18:29.182826",
     "status": "completed"
    },
    "tags": []
   },
   "source": [
    "**So we can infer from above histogram that most matches won by a margin of 0 to 20 runs by defending, and defending above 100 runs happened very few times.**"
   ]
  },
  {
   "cell_type": "code",
   "execution_count": 21,
   "id": "eca93dd6",
   "metadata": {
    "execution": {
     "iopub.execute_input": "2023-02-11T23:18:29.362455Z",
     "iopub.status.busy": "2023-02-11T23:18:29.361764Z",
     "iopub.status.idle": "2023-02-11T23:18:29.386423Z",
     "shell.execute_reply": "2023-02-11T23:18:29.385552Z"
    },
    "papermill": {
     "duration": 0.086762,
     "end_time": "2023-02-11T23:18:29.388713",
     "exception": false,
     "start_time": "2023-02-11T23:18:29.301951",
     "status": "completed"
    },
    "tags": []
   },
   "outputs": [
    {
     "data": {
      "text/html": [
       "<div>\n",
       "<style scoped>\n",
       "    .dataframe tbody tr th:only-of-type {\n",
       "        vertical-align: middle;\n",
       "    }\n",
       "\n",
       "    .dataframe tbody tr th {\n",
       "        vertical-align: top;\n",
       "    }\n",
       "\n",
       "    .dataframe thead th {\n",
       "        text-align: right;\n",
       "    }\n",
       "</style>\n",
       "<table border=\"1\" class=\"dataframe\">\n",
       "  <thead>\n",
       "    <tr style=\"text-align: right;\">\n",
       "      <th></th>\n",
       "      <th>id</th>\n",
       "      <th>city</th>\n",
       "      <th>date</th>\n",
       "      <th>player_of_match</th>\n",
       "      <th>venue</th>\n",
       "      <th>neutral_venue</th>\n",
       "      <th>team1</th>\n",
       "      <th>team2</th>\n",
       "      <th>toss_winner</th>\n",
       "      <th>toss_decision</th>\n",
       "      <th>winner</th>\n",
       "      <th>result</th>\n",
       "      <th>result_margin</th>\n",
       "      <th>eliminator</th>\n",
       "      <th>method</th>\n",
       "      <th>umpire1</th>\n",
       "      <th>umpire2</th>\n",
       "      <th>Year</th>\n",
       "    </tr>\n",
       "  </thead>\n",
       "  <tbody>\n",
       "    <tr>\n",
       "      <th>0</th>\n",
       "      <td>335982</td>\n",
       "      <td>Bangalore</td>\n",
       "      <td>2008-04-18</td>\n",
       "      <td>BB McCullum</td>\n",
       "      <td>M Chinnaswamy Stadium</td>\n",
       "      <td>0</td>\n",
       "      <td>Royal Challengers Bangalore</td>\n",
       "      <td>Kolkata Knight Riders</td>\n",
       "      <td>Royal Challengers Bangalore</td>\n",
       "      <td>field</td>\n",
       "      <td>Kolkata Knight Riders</td>\n",
       "      <td>runs</td>\n",
       "      <td>140.0</td>\n",
       "      <td>N</td>\n",
       "      <td>NaN</td>\n",
       "      <td>Asad Rauf</td>\n",
       "      <td>RE Koertzen</td>\n",
       "      <td>2008</td>\n",
       "    </tr>\n",
       "    <tr>\n",
       "      <th>55</th>\n",
       "      <td>336038</td>\n",
       "      <td>Mumbai</td>\n",
       "      <td>2008-05-30</td>\n",
       "      <td>SR Watson</td>\n",
       "      <td>Wankhede Stadium</td>\n",
       "      <td>0</td>\n",
       "      <td>Delhi Daredevils</td>\n",
       "      <td>Rajasthan Royals</td>\n",
       "      <td>Delhi Daredevils</td>\n",
       "      <td>field</td>\n",
       "      <td>Rajasthan Royals</td>\n",
       "      <td>runs</td>\n",
       "      <td>105.0</td>\n",
       "      <td>N</td>\n",
       "      <td>NaN</td>\n",
       "      <td>BF Bowden</td>\n",
       "      <td>RE Koertzen</td>\n",
       "      <td>2008</td>\n",
       "    </tr>\n",
       "    <tr>\n",
       "      <th>236</th>\n",
       "      <td>501260</td>\n",
       "      <td>Dharamsala</td>\n",
       "      <td>2011-05-17</td>\n",
       "      <td>AC Gilchrist</td>\n",
       "      <td>Himachal Pradesh Cricket Association Stadium</td>\n",
       "      <td>0</td>\n",
       "      <td>Kings XI Punjab</td>\n",
       "      <td>Royal Challengers Bangalore</td>\n",
       "      <td>Kings XI Punjab</td>\n",
       "      <td>bat</td>\n",
       "      <td>Kings XI Punjab</td>\n",
       "      <td>runs</td>\n",
       "      <td>111.0</td>\n",
       "      <td>N</td>\n",
       "      <td>NaN</td>\n",
       "      <td>Asad Rauf</td>\n",
       "      <td>AM Saheba</td>\n",
       "      <td>2011</td>\n",
       "    </tr>\n",
       "    <tr>\n",
       "      <th>351</th>\n",
       "      <td>598027</td>\n",
       "      <td>Bangalore</td>\n",
       "      <td>2013-04-23</td>\n",
       "      <td>CH Gayle</td>\n",
       "      <td>M Chinnaswamy Stadium</td>\n",
       "      <td>0</td>\n",
       "      <td>Royal Challengers Bangalore</td>\n",
       "      <td>Pune Warriors</td>\n",
       "      <td>Pune Warriors</td>\n",
       "      <td>field</td>\n",
       "      <td>Royal Challengers Bangalore</td>\n",
       "      <td>runs</td>\n",
       "      <td>130.0</td>\n",
       "      <td>N</td>\n",
       "      <td>NaN</td>\n",
       "      <td>Aleem Dar</td>\n",
       "      <td>C Shamshuddin</td>\n",
       "      <td>2013</td>\n",
       "    </tr>\n",
       "    <tr>\n",
       "      <th>497</th>\n",
       "      <td>829785</td>\n",
       "      <td>Bangalore</td>\n",
       "      <td>2015-05-06</td>\n",
       "      <td>CH Gayle</td>\n",
       "      <td>M Chinnaswamy Stadium</td>\n",
       "      <td>0</td>\n",
       "      <td>Royal Challengers Bangalore</td>\n",
       "      <td>Kings XI Punjab</td>\n",
       "      <td>Kings XI Punjab</td>\n",
       "      <td>field</td>\n",
       "      <td>Royal Challengers Bangalore</td>\n",
       "      <td>runs</td>\n",
       "      <td>138.0</td>\n",
       "      <td>N</td>\n",
       "      <td>NaN</td>\n",
       "      <td>RK Illingworth</td>\n",
       "      <td>VA Kulkarni</td>\n",
       "      <td>2015</td>\n",
       "    </tr>\n",
       "    <tr>\n",
       "      <th>560</th>\n",
       "      <td>980987</td>\n",
       "      <td>Bangalore</td>\n",
       "      <td>2016-05-14</td>\n",
       "      <td>AB de Villiers</td>\n",
       "      <td>M Chinnaswamy Stadium</td>\n",
       "      <td>0</td>\n",
       "      <td>Royal Challengers Bangalore</td>\n",
       "      <td>Gujarat Lions</td>\n",
       "      <td>Gujarat Lions</td>\n",
       "      <td>field</td>\n",
       "      <td>Royal Challengers Bangalore</td>\n",
       "      <td>runs</td>\n",
       "      <td>144.0</td>\n",
       "      <td>N</td>\n",
       "      <td>NaN</td>\n",
       "      <td>AY Dandekar</td>\n",
       "      <td>VK Sharma</td>\n",
       "      <td>2016</td>\n",
       "    </tr>\n",
       "    <tr>\n",
       "      <th>620</th>\n",
       "      <td>1082635</td>\n",
       "      <td>Delhi</td>\n",
       "      <td>2017-05-06</td>\n",
       "      <td>LMP Simmons</td>\n",
       "      <td>Feroz Shah Kotla</td>\n",
       "      <td>0</td>\n",
       "      <td>Delhi Daredevils</td>\n",
       "      <td>Mumbai Indians</td>\n",
       "      <td>Delhi Daredevils</td>\n",
       "      <td>field</td>\n",
       "      <td>Mumbai Indians</td>\n",
       "      <td>runs</td>\n",
       "      <td>146.0</td>\n",
       "      <td>N</td>\n",
       "      <td>NaN</td>\n",
       "      <td>Nitin Menon</td>\n",
       "      <td>CK Nandan</td>\n",
       "      <td>2017</td>\n",
       "    </tr>\n",
       "    <tr>\n",
       "      <th>676</th>\n",
       "      <td>1136601</td>\n",
       "      <td>Kolkata</td>\n",
       "      <td>2018-05-09</td>\n",
       "      <td>Ishan Kishan</td>\n",
       "      <td>Eden Gardens</td>\n",
       "      <td>0</td>\n",
       "      <td>Kolkata Knight Riders</td>\n",
       "      <td>Mumbai Indians</td>\n",
       "      <td>Kolkata Knight Riders</td>\n",
       "      <td>field</td>\n",
       "      <td>Mumbai Indians</td>\n",
       "      <td>runs</td>\n",
       "      <td>102.0</td>\n",
       "      <td>N</td>\n",
       "      <td>NaN</td>\n",
       "      <td>KN Ananthapadmanabhan</td>\n",
       "      <td>AK Chaudhary</td>\n",
       "      <td>2018</td>\n",
       "    </tr>\n",
       "    <tr>\n",
       "      <th>706</th>\n",
       "      <td>1175366</td>\n",
       "      <td>Hyderabad</td>\n",
       "      <td>2019-03-31</td>\n",
       "      <td>JM Bairstow</td>\n",
       "      <td>Rajiv Gandhi International Stadium, Uppal</td>\n",
       "      <td>0</td>\n",
       "      <td>Sunrisers Hyderabad</td>\n",
       "      <td>Royal Challengers Bangalore</td>\n",
       "      <td>Royal Challengers Bangalore</td>\n",
       "      <td>field</td>\n",
       "      <td>Sunrisers Hyderabad</td>\n",
       "      <td>runs</td>\n",
       "      <td>118.0</td>\n",
       "      <td>N</td>\n",
       "      <td>NaN</td>\n",
       "      <td>KN Ananthapadmanabhan</td>\n",
       "      <td>S Ravi</td>\n",
       "      <td>2019</td>\n",
       "    </tr>\n",
       "  </tbody>\n",
       "</table>\n",
       "</div>"
      ],
      "text/plain": [
       "          id        city        date player_of_match  \\\n",
       "0     335982   Bangalore  2008-04-18     BB McCullum   \n",
       "55    336038      Mumbai  2008-05-30       SR Watson   \n",
       "236   501260  Dharamsala  2011-05-17    AC Gilchrist   \n",
       "351   598027   Bangalore  2013-04-23        CH Gayle   \n",
       "497   829785   Bangalore  2015-05-06        CH Gayle   \n",
       "560   980987   Bangalore  2016-05-14  AB de Villiers   \n",
       "620  1082635       Delhi  2017-05-06     LMP Simmons   \n",
       "676  1136601     Kolkata  2018-05-09    Ishan Kishan   \n",
       "706  1175366   Hyderabad  2019-03-31     JM Bairstow   \n",
       "\n",
       "                                            venue  neutral_venue  \\\n",
       "0                           M Chinnaswamy Stadium              0   \n",
       "55                               Wankhede Stadium              0   \n",
       "236  Himachal Pradesh Cricket Association Stadium              0   \n",
       "351                         M Chinnaswamy Stadium              0   \n",
       "497                         M Chinnaswamy Stadium              0   \n",
       "560                         M Chinnaswamy Stadium              0   \n",
       "620                              Feroz Shah Kotla              0   \n",
       "676                                  Eden Gardens              0   \n",
       "706     Rajiv Gandhi International Stadium, Uppal              0   \n",
       "\n",
       "                           team1                        team2  \\\n",
       "0    Royal Challengers Bangalore        Kolkata Knight Riders   \n",
       "55              Delhi Daredevils             Rajasthan Royals   \n",
       "236              Kings XI Punjab  Royal Challengers Bangalore   \n",
       "351  Royal Challengers Bangalore                Pune Warriors   \n",
       "497  Royal Challengers Bangalore              Kings XI Punjab   \n",
       "560  Royal Challengers Bangalore                Gujarat Lions   \n",
       "620             Delhi Daredevils               Mumbai Indians   \n",
       "676        Kolkata Knight Riders               Mumbai Indians   \n",
       "706          Sunrisers Hyderabad  Royal Challengers Bangalore   \n",
       "\n",
       "                     toss_winner toss_decision                       winner  \\\n",
       "0    Royal Challengers Bangalore         field        Kolkata Knight Riders   \n",
       "55              Delhi Daredevils         field             Rajasthan Royals   \n",
       "236              Kings XI Punjab           bat              Kings XI Punjab   \n",
       "351                Pune Warriors         field  Royal Challengers Bangalore   \n",
       "497              Kings XI Punjab         field  Royal Challengers Bangalore   \n",
       "560                Gujarat Lions         field  Royal Challengers Bangalore   \n",
       "620             Delhi Daredevils         field               Mumbai Indians   \n",
       "676        Kolkata Knight Riders         field               Mumbai Indians   \n",
       "706  Royal Challengers Bangalore         field          Sunrisers Hyderabad   \n",
       "\n",
       "    result  result_margin eliminator method                umpire1  \\\n",
       "0     runs          140.0          N    NaN              Asad Rauf   \n",
       "55    runs          105.0          N    NaN              BF Bowden   \n",
       "236   runs          111.0          N    NaN              Asad Rauf   \n",
       "351   runs          130.0          N    NaN              Aleem Dar   \n",
       "497   runs          138.0          N    NaN         RK Illingworth   \n",
       "560   runs          144.0          N    NaN            AY Dandekar   \n",
       "620   runs          146.0          N    NaN            Nitin Menon   \n",
       "676   runs          102.0          N    NaN  KN Ananthapadmanabhan   \n",
       "706   runs          118.0          N    NaN  KN Ananthapadmanabhan   \n",
       "\n",
       "           umpire2  Year  \n",
       "0      RE Koertzen  2008  \n",
       "55     RE Koertzen  2008  \n",
       "236      AM Saheba  2011  \n",
       "351  C Shamshuddin  2013  \n",
       "497    VA Kulkarni  2015  \n",
       "560      VK Sharma  2016  \n",
       "620      CK Nandan  2017  \n",
       "676   AK Chaudhary  2018  \n",
       "706         S Ravi  2019  "
      ]
     },
     "execution_count": 21,
     "metadata": {},
     "output_type": "execute_result"
    }
   ],
   "source": [
    "won_by_runs[won_by_runs['result_margin'] >= 100]"
   ]
  },
  {
   "cell_type": "markdown",
   "id": "af5ce925",
   "metadata": {
    "papermill": {
     "duration": 0.059507,
     "end_time": "2023-02-11T23:18:29.507530",
     "exception": false,
     "start_time": "2023-02-11T23:18:29.448023",
     "status": "completed"
    },
    "tags": []
   },
   "source": [
    "> These are the matches that was defended with a margin > 100 runs"
   ]
  },
  {
   "cell_type": "code",
   "execution_count": 22,
   "id": "55b6d222",
   "metadata": {
    "execution": {
     "iopub.execute_input": "2023-02-11T23:18:29.628922Z",
     "iopub.status.busy": "2023-02-11T23:18:29.628290Z",
     "iopub.status.idle": "2023-02-11T23:18:29.871026Z",
     "shell.execute_reply": "2023-02-11T23:18:29.869943Z"
    },
    "papermill": {
     "duration": 0.307585,
     "end_time": "2023-02-11T23:18:29.874180",
     "exception": false,
     "start_time": "2023-02-11T23:18:29.566595",
     "status": "completed"
    },
    "tags": []
   },
   "outputs": [
    {
     "data": {
      "text/plain": [
       "array([[<AxesSubplot:title={'center':'result_margin'}>]], dtype=object)"
      ]
     },
     "execution_count": 22,
     "metadata": {},
     "output_type": "execute_result"
    },
    {
     "data": {
      "image/png": "[encoded data removed]",
      "text/plain": [
       "<Figure size 432x288 with 1 Axes>"
      ]
     },
     "metadata": {},
     "output_type": "display_data"
    }
   ],
   "source": [
    "won_by_wickets.hist(column='result_margin', color='brown', bins = 20)"
   ]
  },
  {
   "cell_type": "markdown",
   "id": "de556d27",
   "metadata": {
    "papermill": {
     "duration": 0.060666,
     "end_time": "2023-02-11T23:18:29.995484",
     "exception": false,
     "start_time": "2023-02-11T23:18:29.934818",
     "status": "completed"
    },
    "tags": []
   },
   "source": [
    "****Above histogram depicts that more than 80 matches were won with 6 wickets in hand, followed by 7 and 5 wickets deposit.\n",
    "Very Few matches were won with less than 2 wickets in hand and delivering a thriller finish.****"
   ]
  },
  {
   "cell_type": "markdown",
   "id": "ca7c669d",
   "metadata": {
    "papermill": {
     "duration": 0.060926,
     "end_time": "2023-02-11T23:18:30.117595",
     "exception": false,
     "start_time": "2023-02-11T23:18:30.056669",
     "status": "completed"
    },
    "tags": []
   },
   "source": [
    "> Lets look at those nail biting matches details ..."
   ]
  },
  {
   "cell_type": "code",
   "execution_count": 23,
   "id": "77074fe2",
   "metadata": {
    "execution": {
     "iopub.execute_input": "2023-02-11T23:18:30.241059Z",
     "iopub.status.busy": "2023-02-11T23:18:30.240722Z",
     "iopub.status.idle": "2023-02-11T23:18:30.265211Z",
     "shell.execute_reply": "2023-02-11T23:18:30.264190Z"
    },
    "papermill": {
     "duration": 0.089099,
     "end_time": "2023-02-11T23:18:30.267768",
     "exception": false,
     "start_time": "2023-02-11T23:18:30.178669",
     "status": "completed"
    },
    "tags": []
   },
   "outputs": [
    {
     "data": {
      "text/html": [
       "<div>\n",
       "<style scoped>\n",
       "    .dataframe tbody tr th:only-of-type {\n",
       "        vertical-align: middle;\n",
       "    }\n",
       "\n",
       "    .dataframe tbody tr th {\n",
       "        vertical-align: top;\n",
       "    }\n",
       "\n",
       "    .dataframe thead th {\n",
       "        text-align: right;\n",
       "    }\n",
       "</style>\n",
       "<table border=\"1\" class=\"dataframe\">\n",
       "  <thead>\n",
       "    <tr style=\"text-align: right;\">\n",
       "      <th></th>\n",
       "      <th>id</th>\n",
       "      <th>city</th>\n",
       "      <th>date</th>\n",
       "      <th>player_of_match</th>\n",
       "      <th>venue</th>\n",
       "      <th>neutral_venue</th>\n",
       "      <th>team1</th>\n",
       "      <th>team2</th>\n",
       "      <th>toss_winner</th>\n",
       "      <th>toss_decision</th>\n",
       "      <th>winner</th>\n",
       "      <th>result</th>\n",
       "      <th>result_margin</th>\n",
       "      <th>eliminator</th>\n",
       "      <th>method</th>\n",
       "      <th>umpire1</th>\n",
       "      <th>umpire2</th>\n",
       "      <th>Year</th>\n",
       "    </tr>\n",
       "  </thead>\n",
       "  <tbody>\n",
       "    <tr>\n",
       "      <th>99</th>\n",
       "      <td>392224</td>\n",
       "      <td>Durban</td>\n",
       "      <td>2009-05-14</td>\n",
       "      <td>LRPL Taylor</td>\n",
       "      <td>Kingsmead</td>\n",
       "      <td>1</td>\n",
       "      <td>Royal Challengers Bangalore</td>\n",
       "      <td>Chennai Super Kings</td>\n",
       "      <td>Chennai Super Kings</td>\n",
       "      <td>bat</td>\n",
       "      <td>Royal Challengers Bangalore</td>\n",
       "      <td>wickets</td>\n",
       "      <td>2.0</td>\n",
       "      <td>N</td>\n",
       "      <td>NaN</td>\n",
       "      <td>BR Doctrove</td>\n",
       "      <td>DJ Harper</td>\n",
       "      <td>2009</td>\n",
       "    </tr>\n",
       "    <tr>\n",
       "      <th>295</th>\n",
       "      <td>548355</td>\n",
       "      <td>Mumbai</td>\n",
       "      <td>2012-05-06</td>\n",
       "      <td>DR Smith</td>\n",
       "      <td>Wankhede Stadium</td>\n",
       "      <td>0</td>\n",
       "      <td>Mumbai Indians</td>\n",
       "      <td>Chennai Super Kings</td>\n",
       "      <td>Mumbai Indians</td>\n",
       "      <td>field</td>\n",
       "      <td>Mumbai Indians</td>\n",
       "      <td>wickets</td>\n",
       "      <td>2.0</td>\n",
       "      <td>N</td>\n",
       "      <td>NaN</td>\n",
       "      <td>Asad Rauf</td>\n",
       "      <td>S Asnani</td>\n",
       "      <td>2012</td>\n",
       "    </tr>\n",
       "    <tr>\n",
       "      <th>500</th>\n",
       "      <td>829791</td>\n",
       "      <td>Kolkata</td>\n",
       "      <td>2015-05-09</td>\n",
       "      <td>AD Russell</td>\n",
       "      <td>Eden Gardens</td>\n",
       "      <td>0</td>\n",
       "      <td>Kolkata Knight Riders</td>\n",
       "      <td>Kings XI Punjab</td>\n",
       "      <td>Kings XI Punjab</td>\n",
       "      <td>bat</td>\n",
       "      <td>Kolkata Knight Riders</td>\n",
       "      <td>wickets</td>\n",
       "      <td>1.0</td>\n",
       "      <td>N</td>\n",
       "      <td>NaN</td>\n",
       "      <td>AK Chaudhary</td>\n",
       "      <td>HDPK Dharmasena</td>\n",
       "      <td>2015</td>\n",
       "    </tr>\n",
       "    <tr>\n",
       "      <th>536</th>\n",
       "      <td>980939</td>\n",
       "      <td>Pune</td>\n",
       "      <td>2016-04-24</td>\n",
       "      <td>SA Yadav</td>\n",
       "      <td>Maharashtra Cricket Association Stadium</td>\n",
       "      <td>0</td>\n",
       "      <td>Rising Pune Supergiants</td>\n",
       "      <td>Kolkata Knight Riders</td>\n",
       "      <td>Kolkata Knight Riders</td>\n",
       "      <td>field</td>\n",
       "      <td>Kolkata Knight Riders</td>\n",
       "      <td>wickets</td>\n",
       "      <td>2.0</td>\n",
       "      <td>N</td>\n",
       "      <td>NaN</td>\n",
       "      <td>CB Gaffaney</td>\n",
       "      <td>A Nand Kishore</td>\n",
       "      <td>2016</td>\n",
       "    </tr>\n",
       "    <tr>\n",
       "      <th>625</th>\n",
       "      <td>1082640</td>\n",
       "      <td>Kanpur</td>\n",
       "      <td>2017-05-10</td>\n",
       "      <td>SS Iyer</td>\n",
       "      <td>Green Park</td>\n",
       "      <td>0</td>\n",
       "      <td>Gujarat Lions</td>\n",
       "      <td>Delhi Daredevils</td>\n",
       "      <td>Delhi Daredevils</td>\n",
       "      <td>field</td>\n",
       "      <td>Delhi Daredevils</td>\n",
       "      <td>wickets</td>\n",
       "      <td>2.0</td>\n",
       "      <td>N</td>\n",
       "      <td>NaN</td>\n",
       "      <td>YC Barde</td>\n",
       "      <td>AK Chaudhary</td>\n",
       "      <td>2017</td>\n",
       "    </tr>\n",
       "    <tr>\n",
       "      <th>636</th>\n",
       "      <td>1136561</td>\n",
       "      <td>Mumbai</td>\n",
       "      <td>2018-04-07</td>\n",
       "      <td>DJ Bravo</td>\n",
       "      <td>Wankhede Stadium</td>\n",
       "      <td>0</td>\n",
       "      <td>Mumbai Indians</td>\n",
       "      <td>Chennai Super Kings</td>\n",
       "      <td>Chennai Super Kings</td>\n",
       "      <td>field</td>\n",
       "      <td>Chennai Super Kings</td>\n",
       "      <td>wickets</td>\n",
       "      <td>1.0</td>\n",
       "      <td>N</td>\n",
       "      <td>NaN</td>\n",
       "      <td>CB Gaffaney</td>\n",
       "      <td>A Nand Kishore</td>\n",
       "      <td>2018</td>\n",
       "    </tr>\n",
       "    <tr>\n",
       "      <th>642</th>\n",
       "      <td>1136567</td>\n",
       "      <td>Hyderabad</td>\n",
       "      <td>2018-04-12</td>\n",
       "      <td>Rashid Khan</td>\n",
       "      <td>Rajiv Gandhi International Stadium, Uppal</td>\n",
       "      <td>0</td>\n",
       "      <td>Sunrisers Hyderabad</td>\n",
       "      <td>Mumbai Indians</td>\n",
       "      <td>Sunrisers Hyderabad</td>\n",
       "      <td>field</td>\n",
       "      <td>Sunrisers Hyderabad</td>\n",
       "      <td>wickets</td>\n",
       "      <td>1.0</td>\n",
       "      <td>N</td>\n",
       "      <td>NaN</td>\n",
       "      <td>NJ Llong</td>\n",
       "      <td>CK Nandan</td>\n",
       "      <td>2018</td>\n",
       "    </tr>\n",
       "    <tr>\n",
       "      <th>692</th>\n",
       "      <td>1136617</td>\n",
       "      <td>Mumbai</td>\n",
       "      <td>2018-05-22</td>\n",
       "      <td>F du Plessis</td>\n",
       "      <td>Wankhede Stadium</td>\n",
       "      <td>0</td>\n",
       "      <td>Sunrisers Hyderabad</td>\n",
       "      <td>Chennai Super Kings</td>\n",
       "      <td>Chennai Super Kings</td>\n",
       "      <td>field</td>\n",
       "      <td>Chennai Super Kings</td>\n",
       "      <td>wickets</td>\n",
       "      <td>2.0</td>\n",
       "      <td>N</td>\n",
       "      <td>NaN</td>\n",
       "      <td>C Shamshuddin</td>\n",
       "      <td>M Erasmus</td>\n",
       "      <td>2018</td>\n",
       "    </tr>\n",
       "    <tr>\n",
       "      <th>753</th>\n",
       "      <td>1181766</td>\n",
       "      <td>Visakhapatnam</td>\n",
       "      <td>2019-05-08</td>\n",
       "      <td>RR Pant</td>\n",
       "      <td>Dr. Y.S. Rajasekhara Reddy ACA-VDCA Cricket St...</td>\n",
       "      <td>0</td>\n",
       "      <td>Delhi Capitals</td>\n",
       "      <td>Sunrisers Hyderabad</td>\n",
       "      <td>Delhi Capitals</td>\n",
       "      <td>field</td>\n",
       "      <td>Delhi Capitals</td>\n",
       "      <td>wickets</td>\n",
       "      <td>2.0</td>\n",
       "      <td>N</td>\n",
       "      <td>NaN</td>\n",
       "      <td>BNJ Oxenford</td>\n",
       "      <td>S Ravi</td>\n",
       "      <td>2019</td>\n",
       "    </tr>\n",
       "  </tbody>\n",
       "</table>\n",
       "</div>"
      ],
      "text/plain": [
       "          id           city        date player_of_match  \\\n",
       "99    392224         Durban  2009-05-14     LRPL Taylor   \n",
       "295   548355         Mumbai  2012-05-06        DR Smith   \n",
       "500   829791        Kolkata  2015-05-09      AD Russell   \n",
       "536   980939           Pune  2016-04-24        SA Yadav   \n",
       "625  1082640         Kanpur  2017-05-10         SS Iyer   \n",
       "636  1136561         Mumbai  2018-04-07        DJ Bravo   \n",
       "642  1136567      Hyderabad  2018-04-12     Rashid Khan   \n",
       "692  1136617         Mumbai  2018-05-22    F du Plessis   \n",
       "753  1181766  Visakhapatnam  2019-05-08         RR Pant   \n",
       "\n",
       "                                                 venue  neutral_venue  \\\n",
       "99                                           Kingsmead              1   \n",
       "295                                   Wankhede Stadium              0   \n",
       "500                                       Eden Gardens              0   \n",
       "536            Maharashtra Cricket Association Stadium              0   \n",
       "625                                         Green Park              0   \n",
       "636                                   Wankhede Stadium              0   \n",
       "642          Rajiv Gandhi International Stadium, Uppal              0   \n",
       "692                                   Wankhede Stadium              0   \n",
       "753  Dr. Y.S. Rajasekhara Reddy ACA-VDCA Cricket St...              0   \n",
       "\n",
       "                           team1                  team2  \\\n",
       "99   Royal Challengers Bangalore    Chennai Super Kings   \n",
       "295               Mumbai Indians    Chennai Super Kings   \n",
       "500        Kolkata Knight Riders        Kings XI Punjab   \n",
       "536      Rising Pune Supergiants  Kolkata Knight Riders   \n",
       "625                Gujarat Lions       Delhi Daredevils   \n",
       "636               Mumbai Indians    Chennai Super Kings   \n",
       "642          Sunrisers Hyderabad         Mumbai Indians   \n",
       "692          Sunrisers Hyderabad    Chennai Super Kings   \n",
       "753               Delhi Capitals    Sunrisers Hyderabad   \n",
       "\n",
       "               toss_winner toss_decision                       winner  \\\n",
       "99     Chennai Super Kings           bat  Royal Challengers Bangalore   \n",
       "295         Mumbai Indians         field               Mumbai Indians   \n",
       "500        Kings XI Punjab           bat        Kolkata Knight Riders   \n",
       "536  Kolkata Knight Riders         field        Kolkata Knight Riders   \n",
       "625       Delhi Daredevils         field             Delhi Daredevils   \n",
       "636    Chennai Super Kings         field          Chennai Super Kings   \n",
       "642    Sunrisers Hyderabad         field          Sunrisers Hyderabad   \n",
       "692    Chennai Super Kings         field          Chennai Super Kings   \n",
       "753         Delhi Capitals         field               Delhi Capitals   \n",
       "\n",
       "      result  result_margin eliminator method        umpire1          umpire2  \\\n",
       "99   wickets            2.0          N    NaN    BR Doctrove        DJ Harper   \n",
       "295  wickets            2.0          N    NaN      Asad Rauf         S Asnani   \n",
       "500  wickets            1.0          N    NaN   AK Chaudhary  HDPK Dharmasena   \n",
       "536  wickets            2.0          N    NaN    CB Gaffaney   A Nand Kishore   \n",
       "625  wickets            2.0          N    NaN       YC Barde     AK Chaudhary   \n",
       "636  wickets            1.0          N    NaN    CB Gaffaney   A Nand Kishore   \n",
       "642  wickets            1.0          N    NaN       NJ Llong        CK Nandan   \n",
       "692  wickets            2.0          N    NaN  C Shamshuddin        M Erasmus   \n",
       "753  wickets            2.0          N    NaN   BNJ Oxenford           S Ravi   \n",
       "\n",
       "     Year  \n",
       "99   2009  \n",
       "295  2012  \n",
       "500  2015  \n",
       "536  2016  \n",
       "625  2017  \n",
       "636  2018  \n",
       "642  2018  \n",
       "692  2018  \n",
       "753  2019  "
      ]
     },
     "execution_count": 23,
     "metadata": {},
     "output_type": "execute_result"
    }
   ],
   "source": [
    "won_by_wickets[won_by_wickets['result_margin'] <= 2]"
   ]
  },
  {
   "cell_type": "markdown",
   "id": "229b858d",
   "metadata": {
    "papermill": {
     "duration": 0.060956,
     "end_time": "2023-02-11T23:18:30.391774",
     "exception": false,
     "start_time": "2023-02-11T23:18:30.330818",
     "status": "completed"
    },
    "tags": []
   },
   "source": [
    "# Lets analyze a Match in detail now ...!"
   ]
  },
  {
   "cell_type": "code",
   "execution_count": 24,
   "id": "d3332c37",
   "metadata": {
    "execution": {
     "iopub.execute_input": "2023-02-11T23:18:30.517655Z",
     "iopub.status.busy": "2023-02-11T23:18:30.517356Z",
     "iopub.status.idle": "2023-02-11T23:18:31.245957Z",
     "shell.execute_reply": "2023-02-11T23:18:31.244819Z"
    },
    "papermill": {
     "duration": 0.795284,
     "end_time": "2023-02-11T23:18:31.248618",
     "exception": false,
     "start_time": "2023-02-11T23:18:30.453334",
     "status": "completed"
    },
    "tags": []
   },
   "outputs": [],
   "source": [
    "ball_by_ball_details = pd.read_csv('/kaggle/input/ipl-complete-dataset-20082020/IPL Ball-by-Ball 2008-2020.csv')"
   ]
  },
  {
   "cell_type": "code",
   "execution_count": 25,
   "id": "a1b6fd33",
   "metadata": {
    "execution": {
     "iopub.execute_input": "2023-02-11T23:18:31.373978Z",
     "iopub.status.busy": "2023-02-11T23:18:31.373639Z",
     "iopub.status.idle": "2023-02-11T23:18:31.392120Z",
     "shell.execute_reply": "2023-02-11T23:18:31.391230Z"
    },
    "papermill": {
     "duration": 0.083209,
     "end_time": "2023-02-11T23:18:31.394212",
     "exception": false,
     "start_time": "2023-02-11T23:18:31.311003",
     "status": "completed"
    },
    "tags": []
   },
   "outputs": [
    {
     "data": {
      "text/html": [
       "<div>\n",
       "<style scoped>\n",
       "    .dataframe tbody tr th:only-of-type {\n",
       "        vertical-align: middle;\n",
       "    }\n",
       "\n",
       "    .dataframe tbody tr th {\n",
       "        vertical-align: top;\n",
       "    }\n",
       "\n",
       "    .dataframe thead th {\n",
       "        text-align: right;\n",
       "    }\n",
       "</style>\n",
       "<table border=\"1\" class=\"dataframe\">\n",
       "  <thead>\n",
       "    <tr style=\"text-align: right;\">\n",
       "      <th></th>\n",
       "      <th>id</th>\n",
       "      <th>inning</th>\n",
       "      <th>over</th>\n",
       "      <th>ball</th>\n",
       "      <th>batsman</th>\n",
       "      <th>non_striker</th>\n",
       "      <th>bowler</th>\n",
       "      <th>batsman_runs</th>\n",
       "      <th>extra_runs</th>\n",
       "      <th>total_runs</th>\n",
       "      <th>non_boundary</th>\n",
       "      <th>is_wicket</th>\n",
       "      <th>dismissal_kind</th>\n",
       "      <th>player_dismissed</th>\n",
       "      <th>fielder</th>\n",
       "      <th>extras_type</th>\n",
       "      <th>batting_team</th>\n",
       "      <th>bowling_team</th>\n",
       "    </tr>\n",
       "  </thead>\n",
       "  <tbody>\n",
       "    <tr>\n",
       "      <th>0</th>\n",
       "      <td>335982</td>\n",
       "      <td>1</td>\n",
       "      <td>6</td>\n",
       "      <td>5</td>\n",
       "      <td>RT Ponting</td>\n",
       "      <td>BB McCullum</td>\n",
       "      <td>AA Noffke</td>\n",
       "      <td>1</td>\n",
       "      <td>0</td>\n",
       "      <td>1</td>\n",
       "      <td>0</td>\n",
       "      <td>0</td>\n",
       "      <td>NaN</td>\n",
       "      <td>NaN</td>\n",
       "      <td>NaN</td>\n",
       "      <td>NaN</td>\n",
       "      <td>Kolkata Knight Riders</td>\n",
       "      <td>Royal Challengers Bangalore</td>\n",
       "    </tr>\n",
       "    <tr>\n",
       "      <th>1</th>\n",
       "      <td>335982</td>\n",
       "      <td>1</td>\n",
       "      <td>6</td>\n",
       "      <td>6</td>\n",
       "      <td>BB McCullum</td>\n",
       "      <td>RT Ponting</td>\n",
       "      <td>AA Noffke</td>\n",
       "      <td>1</td>\n",
       "      <td>0</td>\n",
       "      <td>1</td>\n",
       "      <td>0</td>\n",
       "      <td>0</td>\n",
       "      <td>NaN</td>\n",
       "      <td>NaN</td>\n",
       "      <td>NaN</td>\n",
       "      <td>NaN</td>\n",
       "      <td>Kolkata Knight Riders</td>\n",
       "      <td>Royal Challengers Bangalore</td>\n",
       "    </tr>\n",
       "    <tr>\n",
       "      <th>2</th>\n",
       "      <td>335982</td>\n",
       "      <td>1</td>\n",
       "      <td>7</td>\n",
       "      <td>1</td>\n",
       "      <td>BB McCullum</td>\n",
       "      <td>RT Ponting</td>\n",
       "      <td>Z Khan</td>\n",
       "      <td>0</td>\n",
       "      <td>0</td>\n",
       "      <td>0</td>\n",
       "      <td>0</td>\n",
       "      <td>0</td>\n",
       "      <td>NaN</td>\n",
       "      <td>NaN</td>\n",
       "      <td>NaN</td>\n",
       "      <td>NaN</td>\n",
       "      <td>Kolkata Knight Riders</td>\n",
       "      <td>Royal Challengers Bangalore</td>\n",
       "    </tr>\n",
       "    <tr>\n",
       "      <th>3</th>\n",
       "      <td>335982</td>\n",
       "      <td>1</td>\n",
       "      <td>7</td>\n",
       "      <td>2</td>\n",
       "      <td>BB McCullum</td>\n",
       "      <td>RT Ponting</td>\n",
       "      <td>Z Khan</td>\n",
       "      <td>1</td>\n",
       "      <td>0</td>\n",
       "      <td>1</td>\n",
       "      <td>0</td>\n",
       "      <td>0</td>\n",
       "      <td>NaN</td>\n",
       "      <td>NaN</td>\n",
       "      <td>NaN</td>\n",
       "      <td>NaN</td>\n",
       "      <td>Kolkata Knight Riders</td>\n",
       "      <td>Royal Challengers Bangalore</td>\n",
       "    </tr>\n",
       "    <tr>\n",
       "      <th>4</th>\n",
       "      <td>335982</td>\n",
       "      <td>1</td>\n",
       "      <td>7</td>\n",
       "      <td>3</td>\n",
       "      <td>RT Ponting</td>\n",
       "      <td>BB McCullum</td>\n",
       "      <td>Z Khan</td>\n",
       "      <td>1</td>\n",
       "      <td>0</td>\n",
       "      <td>1</td>\n",
       "      <td>0</td>\n",
       "      <td>0</td>\n",
       "      <td>NaN</td>\n",
       "      <td>NaN</td>\n",
       "      <td>NaN</td>\n",
       "      <td>NaN</td>\n",
       "      <td>Kolkata Knight Riders</td>\n",
       "      <td>Royal Challengers Bangalore</td>\n",
       "    </tr>\n",
       "  </tbody>\n",
       "</table>\n",
       "</div>"
      ],
      "text/plain": [
       "       id  inning  over  ball      batsman  non_striker     bowler  \\\n",
       "0  335982       1     6     5   RT Ponting  BB McCullum  AA Noffke   \n",
       "1  335982       1     6     6  BB McCullum   RT Ponting  AA Noffke   \n",
       "2  335982       1     7     1  BB McCullum   RT Ponting     Z Khan   \n",
       "3  335982       1     7     2  BB McCullum   RT Ponting     Z Khan   \n",
       "4  335982       1     7     3   RT Ponting  BB McCullum     Z Khan   \n",
       "\n",
       "   batsman_runs  extra_runs  total_runs  non_boundary  is_wicket  \\\n",
       "0             1           0           1             0          0   \n",
       "1             1           0           1             0          0   \n",
       "2             0           0           0             0          0   \n",
       "3             1           0           1             0          0   \n",
       "4             1           0           1             0          0   \n",
       "\n",
       "  dismissal_kind player_dismissed fielder extras_type           batting_team  \\\n",
       "0            NaN              NaN     NaN         NaN  Kolkata Knight Riders   \n",
       "1            NaN              NaN     NaN         NaN  Kolkata Knight Riders   \n",
       "2            NaN              NaN     NaN         NaN  Kolkata Knight Riders   \n",
       "3            NaN              NaN     NaN         NaN  Kolkata Knight Riders   \n",
       "4            NaN              NaN     NaN         NaN  Kolkata Knight Riders   \n",
       "\n",
       "                  bowling_team  \n",
       "0  Royal Challengers Bangalore  \n",
       "1  Royal Challengers Bangalore  \n",
       "2  Royal Challengers Bangalore  \n",
       "3  Royal Challengers Bangalore  \n",
       "4  Royal Challengers Bangalore  "
      ]
     },
     "execution_count": 25,
     "metadata": {},
     "output_type": "execute_result"
    }
   ],
   "source": [
    "ball_by_ball_details.head()"
   ]
  },
  {
   "cell_type": "code",
   "execution_count": 26,
   "id": "3fd7ca46",
   "metadata": {
    "execution": {
     "iopub.execute_input": "2023-02-11T23:18:31.519822Z",
     "iopub.status.busy": "2023-02-11T23:18:31.519501Z",
     "iopub.status.idle": "2023-02-11T23:18:31.525624Z",
     "shell.execute_reply": "2023-02-11T23:18:31.524719Z"
    },
    "papermill": {
     "duration": 0.071113,
     "end_time": "2023-02-11T23:18:31.527602",
     "exception": false,
     "start_time": "2023-02-11T23:18:31.456489",
     "status": "completed"
    },
    "tags": []
   },
   "outputs": [
    {
     "data": {
      "text/plain": [
       "(193468, 18)"
      ]
     },
     "execution_count": 26,
     "metadata": {},
     "output_type": "execute_result"
    }
   ],
   "source": [
    "ball_by_ball_details.shape"
   ]
  },
  {
   "cell_type": "markdown",
   "id": "b2b0463d",
   "metadata": {
    "papermill": {
     "duration": 0.063086,
     "end_time": "2023-02-11T23:18:31.653612",
     "exception": false,
     "start_time": "2023-02-11T23:18:31.590526",
     "status": "completed"
    },
    "tags": []
   },
   "source": [
    "**So if we want to analyse any particular match we have to do it by using the 'id' column reference.**"
   ]
  },
  {
   "cell_type": "markdown",
   "id": "2e1f7a08",
   "metadata": {
    "papermill": {
     "duration": 0.065952,
     "end_time": "2023-02-11T23:18:31.782027",
     "exception": false,
     "start_time": "2023-02-11T23:18:31.716075",
     "status": "completed"
    },
    "tags": []
   },
   "source": [
    "***Lets analyze MI vs CSK match played on 2018-04-07, which was a last over thriller!!***"
   ]
  },
  {
   "cell_type": "code",
   "execution_count": 27,
   "id": "a784e204",
   "metadata": {
    "execution": {
     "iopub.execute_input": "2023-02-11T23:18:31.925652Z",
     "iopub.status.busy": "2023-02-11T23:18:31.925318Z",
     "iopub.status.idle": "2023-02-11T23:18:31.931469Z",
     "shell.execute_reply": "2023-02-11T23:18:31.930561Z"
    },
    "papermill": {
     "duration": 0.077086,
     "end_time": "2023-02-11T23:18:31.933606",
     "exception": false,
     "start_time": "2023-02-11T23:18:31.856520",
     "status": "completed"
    },
    "tags": []
   },
   "outputs": [],
   "source": [
    "#I noted down the match id i.e 1136561\n",
    "\n",
    "MIvsCSK_df = ball_by_ball_details[ball_by_ball_details.id == 1136561]"
   ]
  },
  {
   "cell_type": "code",
   "execution_count": 28,
   "id": "db2a3d03",
   "metadata": {
    "execution": {
     "iopub.execute_input": "2023-02-11T23:18:32.061181Z",
     "iopub.status.busy": "2023-02-11T23:18:32.060853Z",
     "iopub.status.idle": "2023-02-11T23:18:32.066812Z",
     "shell.execute_reply": "2023-02-11T23:18:32.065936Z"
    },
    "papermill": {
     "duration": 0.07349,
     "end_time": "2023-02-11T23:18:32.069062",
     "exception": false,
     "start_time": "2023-02-11T23:18:31.995572",
     "status": "completed"
    },
    "tags": []
   },
   "outputs": [
    {
     "data": {
      "text/plain": [
       "(246, 18)"
      ]
     },
     "execution_count": 28,
     "metadata": {},
     "output_type": "execute_result"
    }
   ],
   "source": [
    "MIvsCSK_df.shape"
   ]
  },
  {
   "cell_type": "markdown",
   "id": "43b4ad72",
   "metadata": {
    "papermill": {
     "duration": 0.063054,
     "end_time": "2023-02-11T23:18:32.195310",
     "exception": false,
     "start_time": "2023-02-11T23:18:32.132256",
     "status": "completed"
    },
    "tags": []
   },
   "source": [
    "> **There are total 246 rows, which implies that 6 extra deliveries had been bowled in this match. (In a t20 match there will be 240 legal deliveries)**"
   ]
  },
  {
   "cell_type": "code",
   "execution_count": 29,
   "id": "010ae557",
   "metadata": {
    "execution": {
     "iopub.execute_input": "2023-02-11T23:18:32.322595Z",
     "iopub.status.busy": "2023-02-11T23:18:32.322264Z",
     "iopub.status.idle": "2023-02-11T23:18:32.341143Z",
     "shell.execute_reply": "2023-02-11T23:18:32.340228Z"
    },
    "papermill": {
     "duration": 0.085273,
     "end_time": "2023-02-11T23:18:32.343378",
     "exception": false,
     "start_time": "2023-02-11T23:18:32.258105",
     "status": "completed"
    },
    "tags": []
   },
   "outputs": [
    {
     "data": {
      "text/html": [
       "<div>\n",
       "<style scoped>\n",
       "    .dataframe tbody tr th:only-of-type {\n",
       "        vertical-align: middle;\n",
       "    }\n",
       "\n",
       "    .dataframe tbody tr th {\n",
       "        vertical-align: top;\n",
       "    }\n",
       "\n",
       "    .dataframe thead th {\n",
       "        text-align: right;\n",
       "    }\n",
       "</style>\n",
       "<table border=\"1\" class=\"dataframe\">\n",
       "  <thead>\n",
       "    <tr style=\"text-align: right;\">\n",
       "      <th></th>\n",
       "      <th>id</th>\n",
       "      <th>inning</th>\n",
       "      <th>over</th>\n",
       "      <th>ball</th>\n",
       "      <th>batsman</th>\n",
       "      <th>non_striker</th>\n",
       "      <th>bowler</th>\n",
       "      <th>batsman_runs</th>\n",
       "      <th>extra_runs</th>\n",
       "      <th>total_runs</th>\n",
       "      <th>non_boundary</th>\n",
       "      <th>is_wicket</th>\n",
       "      <th>dismissal_kind</th>\n",
       "      <th>player_dismissed</th>\n",
       "      <th>fielder</th>\n",
       "      <th>extras_type</th>\n",
       "      <th>batting_team</th>\n",
       "      <th>bowling_team</th>\n",
       "    </tr>\n",
       "  </thead>\n",
       "  <tbody>\n",
       "    <tr>\n",
       "      <th>150379</th>\n",
       "      <td>1136561</td>\n",
       "      <td>1</td>\n",
       "      <td>7</td>\n",
       "      <td>2</td>\n",
       "      <td>Ishan Kishan</td>\n",
       "      <td>SA Yadav</td>\n",
       "      <td>RA Jadeja</td>\n",
       "      <td>4</td>\n",
       "      <td>0</td>\n",
       "      <td>4</td>\n",
       "      <td>0</td>\n",
       "      <td>0</td>\n",
       "      <td>NaN</td>\n",
       "      <td>NaN</td>\n",
       "      <td>NaN</td>\n",
       "      <td>NaN</td>\n",
       "      <td>Mumbai Indians</td>\n",
       "      <td>Chennai Super Kings</td>\n",
       "    </tr>\n",
       "    <tr>\n",
       "      <th>150380</th>\n",
       "      <td>1136561</td>\n",
       "      <td>1</td>\n",
       "      <td>7</td>\n",
       "      <td>3</td>\n",
       "      <td>Ishan Kishan</td>\n",
       "      <td>SA Yadav</td>\n",
       "      <td>RA Jadeja</td>\n",
       "      <td>0</td>\n",
       "      <td>0</td>\n",
       "      <td>0</td>\n",
       "      <td>0</td>\n",
       "      <td>0</td>\n",
       "      <td>NaN</td>\n",
       "      <td>NaN</td>\n",
       "      <td>NaN</td>\n",
       "      <td>NaN</td>\n",
       "      <td>Mumbai Indians</td>\n",
       "      <td>Chennai Super Kings</td>\n",
       "    </tr>\n",
       "    <tr>\n",
       "      <th>150381</th>\n",
       "      <td>1136561</td>\n",
       "      <td>1</td>\n",
       "      <td>7</td>\n",
       "      <td>4</td>\n",
       "      <td>Ishan Kishan</td>\n",
       "      <td>SA Yadav</td>\n",
       "      <td>RA Jadeja</td>\n",
       "      <td>0</td>\n",
       "      <td>0</td>\n",
       "      <td>0</td>\n",
       "      <td>0</td>\n",
       "      <td>0</td>\n",
       "      <td>NaN</td>\n",
       "      <td>NaN</td>\n",
       "      <td>NaN</td>\n",
       "      <td>NaN</td>\n",
       "      <td>Mumbai Indians</td>\n",
       "      <td>Chennai Super Kings</td>\n",
       "    </tr>\n",
       "    <tr>\n",
       "      <th>150382</th>\n",
       "      <td>1136561</td>\n",
       "      <td>1</td>\n",
       "      <td>7</td>\n",
       "      <td>5</td>\n",
       "      <td>Ishan Kishan</td>\n",
       "      <td>SA Yadav</td>\n",
       "      <td>RA Jadeja</td>\n",
       "      <td>4</td>\n",
       "      <td>0</td>\n",
       "      <td>4</td>\n",
       "      <td>0</td>\n",
       "      <td>0</td>\n",
       "      <td>NaN</td>\n",
       "      <td>NaN</td>\n",
       "      <td>NaN</td>\n",
       "      <td>NaN</td>\n",
       "      <td>Mumbai Indians</td>\n",
       "      <td>Chennai Super Kings</td>\n",
       "    </tr>\n",
       "    <tr>\n",
       "      <th>150383</th>\n",
       "      <td>1136561</td>\n",
       "      <td>1</td>\n",
       "      <td>7</td>\n",
       "      <td>6</td>\n",
       "      <td>Ishan Kishan</td>\n",
       "      <td>SA Yadav</td>\n",
       "      <td>RA Jadeja</td>\n",
       "      <td>0</td>\n",
       "      <td>0</td>\n",
       "      <td>0</td>\n",
       "      <td>0</td>\n",
       "      <td>0</td>\n",
       "      <td>NaN</td>\n",
       "      <td>NaN</td>\n",
       "      <td>NaN</td>\n",
       "      <td>NaN</td>\n",
       "      <td>Mumbai Indians</td>\n",
       "      <td>Chennai Super Kings</td>\n",
       "    </tr>\n",
       "  </tbody>\n",
       "</table>\n",
       "</div>"
      ],
      "text/plain": [
       "             id  inning  over  ball       batsman non_striker     bowler  \\\n",
       "150379  1136561       1     7     2  Ishan Kishan    SA Yadav  RA Jadeja   \n",
       "150380  1136561       1     7     3  Ishan Kishan    SA Yadav  RA Jadeja   \n",
       "150381  1136561       1     7     4  Ishan Kishan    SA Yadav  RA Jadeja   \n",
       "150382  1136561       1     7     5  Ishan Kishan    SA Yadav  RA Jadeja   \n",
       "150383  1136561       1     7     6  Ishan Kishan    SA Yadav  RA Jadeja   \n",
       "\n",
       "        batsman_runs  extra_runs  total_runs  non_boundary  is_wicket  \\\n",
       "150379             4           0           4             0          0   \n",
       "150380             0           0           0             0          0   \n",
       "150381             0           0           0             0          0   \n",
       "150382             4           0           4             0          0   \n",
       "150383             0           0           0             0          0   \n",
       "\n",
       "       dismissal_kind player_dismissed fielder extras_type    batting_team  \\\n",
       "150379            NaN              NaN     NaN         NaN  Mumbai Indians   \n",
       "150380            NaN              NaN     NaN         NaN  Mumbai Indians   \n",
       "150381            NaN              NaN     NaN         NaN  Mumbai Indians   \n",
       "150382            NaN              NaN     NaN         NaN  Mumbai Indians   \n",
       "150383            NaN              NaN     NaN         NaN  Mumbai Indians   \n",
       "\n",
       "               bowling_team  \n",
       "150379  Chennai Super Kings  \n",
       "150380  Chennai Super Kings  \n",
       "150381  Chennai Super Kings  \n",
       "150382  Chennai Super Kings  \n",
       "150383  Chennai Super Kings  "
      ]
     },
     "execution_count": 29,
     "metadata": {},
     "output_type": "execute_result"
    }
   ],
   "source": [
    "MIvsCSK_df.head()"
   ]
  },
  {
   "cell_type": "code",
   "execution_count": 30,
   "id": "0b4fda81",
   "metadata": {
    "execution": {
     "iopub.execute_input": "2023-02-11T23:18:32.471434Z",
     "iopub.status.busy": "2023-02-11T23:18:32.471121Z",
     "iopub.status.idle": "2023-02-11T23:18:32.477187Z",
     "shell.execute_reply": "2023-02-11T23:18:32.476480Z"
    },
    "papermill": {
     "duration": 0.07238,
     "end_time": "2023-02-11T23:18:32.479095",
     "exception": false,
     "start_time": "2023-02-11T23:18:32.406715",
     "status": "completed"
    },
    "tags": []
   },
   "outputs": [],
   "source": [
    "#lets seperate out innings data\n",
    "\n",
    "MI_df = MIvsCSK_df[MIvsCSK_df['batting_team'] == 'Mumbai Indians']\n",
    "CSK_df = MIvsCSK_df[MIvsCSK_df['batting_team'] == 'Chennai Super Kings']"
   ]
  },
  {
   "cell_type": "code",
   "execution_count": 31,
   "id": "d2f4b281",
   "metadata": {
    "execution": {
     "iopub.execute_input": "2023-02-11T23:18:32.608701Z",
     "iopub.status.busy": "2023-02-11T23:18:32.608413Z",
     "iopub.status.idle": "2023-02-11T23:18:32.616192Z",
     "shell.execute_reply": "2023-02-11T23:18:32.615235Z"
    },
    "papermill": {
     "duration": 0.07563,
     "end_time": "2023-02-11T23:18:32.618598",
     "exception": false,
     "start_time": "2023-02-11T23:18:32.542968",
     "status": "completed"
    },
    "tags": []
   },
   "outputs": [
    {
     "data": {
      "text/plain": [
       "caught    3\n",
       "lbw       1\n",
       "Name: dismissal_kind, dtype: int64"
      ]
     },
     "execution_count": 31,
     "metadata": {},
     "output_type": "execute_result"
    }
   ],
   "source": [
    "MI_df.dismissal_kind.value_counts()"
   ]
  },
  {
   "cell_type": "markdown",
   "id": "c4961962",
   "metadata": {
    "papermill": {
     "duration": 0.06334,
     "end_time": "2023-02-11T23:18:32.745460",
     "exception": false,
     "start_time": "2023-02-11T23:18:32.682120",
     "status": "completed"
    },
    "tags": []
   },
   "source": [
    "> So MI lost only 4 wickets."
   ]
  },
  {
   "cell_type": "code",
   "execution_count": 32,
   "id": "9a170ebf",
   "metadata": {
    "execution": {
     "iopub.execute_input": "2023-02-11T23:18:32.873774Z",
     "iopub.status.busy": "2023-02-11T23:18:32.873466Z",
     "iopub.status.idle": "2023-02-11T23:18:32.881979Z",
     "shell.execute_reply": "2023-02-11T23:18:32.881158Z"
    },
    "papermill": {
     "duration": 0.075283,
     "end_time": "2023-02-11T23:18:32.884171",
     "exception": false,
     "start_time": "2023-02-11T23:18:32.808888",
     "status": "completed"
    },
    "tags": []
   },
   "outputs": [
    {
     "data": {
      "text/plain": [
       "caught     6\n",
       "lbw        2\n",
       "stumped    1\n",
       "Name: dismissal_kind, dtype: int64"
      ]
     },
     "execution_count": 32,
     "metadata": {},
     "output_type": "execute_result"
    }
   ],
   "source": [
    "CSK_df.dismissal_kind.value_counts()"
   ]
  },
  {
   "cell_type": "markdown",
   "id": "95fc050a",
   "metadata": {
    "papermill": {
     "duration": 0.063744,
     "end_time": "2023-02-11T23:18:33.011422",
     "exception": false,
     "start_time": "2023-02-11T23:18:32.947678",
     "status": "completed"
    },
    "tags": []
   },
   "source": [
    "> CSK had lost 9 wickets."
   ]
  },
  {
   "cell_type": "markdown",
   "id": "69f764d4",
   "metadata": {
    "papermill": {
     "duration": 0.063207,
     "end_time": "2023-02-11T23:18:33.138281",
     "exception": false,
     "start_time": "2023-02-11T23:18:33.075074",
     "status": "completed"
    },
    "tags": []
   },
   "source": [
    "# What is the target set by MI ?"
   ]
  },
  {
   "cell_type": "code",
   "execution_count": 33,
   "id": "d805fe05",
   "metadata": {
    "execution": {
     "iopub.execute_input": "2023-02-11T23:18:33.268235Z",
     "iopub.status.busy": "2023-02-11T23:18:33.267928Z",
     "iopub.status.idle": "2023-02-11T23:18:33.274748Z",
     "shell.execute_reply": "2023-02-11T23:18:33.273826Z"
    },
    "papermill": {
     "duration": 0.075118,
     "end_time": "2023-02-11T23:18:33.277296",
     "exception": false,
     "start_time": "2023-02-11T23:18:33.202178",
     "status": "completed"
    },
    "tags": []
   },
   "outputs": [
    {
     "data": {
      "text/plain": [
       "165"
      ]
     },
     "execution_count": 33,
     "metadata": {},
     "output_type": "execute_result"
    }
   ],
   "source": [
    "MI_df.total_runs.sum()"
   ]
  },
  {
   "cell_type": "markdown",
   "id": "73a02b7d",
   "metadata": {
    "papermill": {
     "duration": 0.065007,
     "end_time": "2023-02-11T23:18:33.408071",
     "exception": false,
     "start_time": "2023-02-11T23:18:33.343064",
     "status": "completed"
    },
    "tags": []
   },
   "source": [
    "> 166 is the target for CSK."
   ]
  },
  {
   "cell_type": "markdown",
   "id": "9ea98f95",
   "metadata": {
    "papermill": {
     "duration": 0.064833,
     "end_time": "2023-02-11T23:18:33.537374",
     "exception": false,
     "start_time": "2023-02-11T23:18:33.472541",
     "status": "completed"
    },
    "tags": []
   },
   "source": []
  },
  {
   "cell_type": "code",
   "execution_count": 34,
   "id": "a4565e1f",
   "metadata": {
    "execution": {
     "iopub.execute_input": "2023-02-11T23:18:33.669727Z",
     "iopub.status.busy": "2023-02-11T23:18:33.669057Z",
     "iopub.status.idle": "2023-02-11T23:18:33.675968Z",
     "shell.execute_reply": "2023-02-11T23:18:33.675093Z"
    },
    "papermill": {
     "duration": 0.075581,
     "end_time": "2023-02-11T23:18:33.678239",
     "exception": false,
     "start_time": "2023-02-11T23:18:33.602658",
     "status": "completed"
    },
    "tags": []
   },
   "outputs": [
    {
     "data": {
      "text/plain": [
       "169"
      ]
     },
     "execution_count": 34,
     "metadata": {},
     "output_type": "execute_result"
    }
   ],
   "source": [
    "CSK_df.total_runs.sum()"
   ]
  },
  {
   "cell_type": "markdown",
   "id": "a0365664",
   "metadata": {
    "papermill": {
     "duration": 0.067059,
     "end_time": "2023-02-11T23:18:33.809560",
     "exception": false,
     "start_time": "2023-02-11T23:18:33.742501",
     "status": "completed"
    },
    "tags": []
   },
   "source": [
    "> CSK scored 169 and won the match!"
   ]
  },
  {
   "cell_type": "markdown",
   "id": "57d8f044",
   "metadata": {
    "papermill": {
     "duration": 0.064526,
     "end_time": "2023-02-11T23:18:33.941924",
     "exception": false,
     "start_time": "2023-02-11T23:18:33.877398",
     "status": "completed"
    },
    "tags": []
   },
   "source": [
    "# What is the scorecard of both teams?"
   ]
  },
  {
   "cell_type": "markdown",
   "id": "8dec4249",
   "metadata": {
    "papermill": {
     "duration": 0.064832,
     "end_time": "2023-02-11T23:18:34.070976",
     "exception": false,
     "start_time": "2023-02-11T23:18:34.006144",
     "status": "completed"
    },
    "tags": []
   },
   "source": [
    "> **MI Scorecard**"
   ]
  },
  {
   "cell_type": "code",
   "execution_count": 35,
   "id": "8c06d742",
   "metadata": {
    "execution": {
     "iopub.execute_input": "2023-02-11T23:18:34.203182Z",
     "iopub.status.busy": "2023-02-11T23:18:34.202825Z",
     "iopub.status.idle": "2023-02-11T23:18:34.213989Z",
     "shell.execute_reply": "2023-02-11T23:18:34.213340Z"
    },
    "papermill": {
     "duration": 0.079599,
     "end_time": "2023-02-11T23:18:34.215893",
     "exception": false,
     "start_time": "2023-02-11T23:18:34.136294",
     "status": "completed"
    },
    "tags": []
   },
   "outputs": [
    {
     "data": {
      "text/plain": [
       "batsman\n",
       "E Lewis          0\n",
       "HH Pandya       22\n",
       "Ishan Kishan    40\n",
       "KH Pandya       41\n",
       "RG Sharma       15\n",
       "SA Yadav        43\n",
       "Name: batsman_runs, dtype: int64"
      ]
     },
     "execution_count": 35,
     "metadata": {},
     "output_type": "execute_result"
    }
   ],
   "source": [
    "MI_df.groupby('batsman')['batsman_runs'].sum()"
   ]
  },
  {
   "cell_type": "markdown",
   "id": "7acdb5d2",
   "metadata": {
    "papermill": {
     "duration": 0.064591,
     "end_time": "2023-02-11T23:18:34.344947",
     "exception": false,
     "start_time": "2023-02-11T23:18:34.280356",
     "status": "completed"
    },
    "tags": []
   },
   "source": [
    "> **CSK Scorecard**"
   ]
  },
  {
   "cell_type": "code",
   "execution_count": 36,
   "id": "35156f1d",
   "metadata": {
    "execution": {
     "iopub.execute_input": "2023-02-11T23:18:34.476504Z",
     "iopub.status.busy": "2023-02-11T23:18:34.475911Z",
     "iopub.status.idle": "2023-02-11T23:18:34.483638Z",
     "shell.execute_reply": "2023-02-11T23:18:34.483002Z"
    },
    "papermill": {
     "duration": 0.076198,
     "end_time": "2023-02-11T23:18:34.485616",
     "exception": false,
     "start_time": "2023-02-11T23:18:34.409418",
     "status": "completed"
    },
    "tags": []
   },
   "outputs": [
    {
     "data": {
      "text/plain": [
       "batsman\n",
       "AT Rayudu          22\n",
       "DJ Bravo           68\n",
       "DL Chahar           0\n",
       "Harbhajan Singh     8\n",
       "Imran Tahir         2\n",
       "KM Jadhav          24\n",
       "MA Wood             1\n",
       "MS Dhoni            5\n",
       "RA Jadeja          12\n",
       "SK Raina            4\n",
       "SR Watson          16\n",
       "Name: batsman_runs, dtype: int64"
      ]
     },
     "execution_count": 36,
     "metadata": {},
     "output_type": "execute_result"
    }
   ],
   "source": [
    "CSK_df.groupby('batsman')['batsman_runs'].sum()"
   ]
  },
  {
   "cell_type": "markdown",
   "id": "8374dc6b",
   "metadata": {
    "papermill": {
     "duration": 0.064678,
     "end_time": "2023-02-11T23:18:34.616126",
     "exception": false,
     "start_time": "2023-02-11T23:18:34.551448",
     "status": "completed"
    },
    "tags": []
   },
   "source": [
    "> **Bowling Stats**"
   ]
  },
  {
   "cell_type": "code",
   "execution_count": 37,
   "id": "f0cb9e5c",
   "metadata": {
    "execution": {
     "iopub.execute_input": "2023-02-11T23:18:34.747682Z",
     "iopub.status.busy": "2023-02-11T23:18:34.747231Z",
     "iopub.status.idle": "2023-02-11T23:18:34.756046Z",
     "shell.execute_reply": "2023-02-11T23:18:34.754885Z"
    },
    "papermill": {
     "duration": 0.077461,
     "end_time": "2023-02-11T23:18:34.758390",
     "exception": false,
     "start_time": "2023-02-11T23:18:34.680929",
     "status": "completed"
    },
    "tags": []
   },
   "outputs": [
    {
     "name": "stdout",
     "output_type": "stream",
     "text": [
      "CSK Bowling figures\n",
      "------------------\n"
     ]
    },
    {
     "data": {
      "text/plain": [
       "bowler\n",
       "DJ Bravo           0\n",
       "DL Chahar          1\n",
       "Harbhajan Singh    0\n",
       "Imran Tahir        1\n",
       "MA Wood            0\n",
       "RA Jadeja          0\n",
       "SR Watson          2\n",
       "Name: is_wicket, dtype: int64"
      ]
     },
     "execution_count": 37,
     "metadata": {},
     "output_type": "execute_result"
    }
   ],
   "source": [
    "print(\"CSK Bowling figures\")\n",
    "print(\"------------------\")\n",
    "MI_df.groupby('bowler')['is_wicket'].sum()"
   ]
  },
  {
   "cell_type": "code",
   "execution_count": 38,
   "id": "8d13c4ea",
   "metadata": {
    "execution": {
     "iopub.execute_input": "2023-02-11T23:18:34.922114Z",
     "iopub.status.busy": "2023-02-11T23:18:34.921759Z",
     "iopub.status.idle": "2023-02-11T23:18:34.931550Z",
     "shell.execute_reply": "2023-02-11T23:18:34.930697Z"
    },
    "papermill": {
     "duration": 0.090027,
     "end_time": "2023-02-11T23:18:34.935060",
     "exception": false,
     "start_time": "2023-02-11T23:18:34.845033",
     "status": "completed"
    },
    "tags": []
   },
   "outputs": [
    {
     "name": "stdout",
     "output_type": "stream",
     "text": [
      "MI Bowling figures\n",
      "------------------\n"
     ]
    },
    {
     "data": {
      "text/plain": [
       "bowler\n",
       "HH Pandya            3\n",
       "JJ Bumrah            1\n",
       "M Markande           3\n",
       "MJ McClenaghan       1\n",
       "Mustafizur Rahman    1\n",
       "Name: is_wicket, dtype: int64"
      ]
     },
     "execution_count": 38,
     "metadata": {},
     "output_type": "execute_result"
    }
   ],
   "source": [
    "print(\"MI Bowling figures\")\n",
    "print(\"------------------\")\n",
    "CSK_df.groupby('bowler')['is_wicket'].sum()"
   ]
  }
 ],
 "metadata": {
  "kernelspec": {
   "display_name": "Python 3",
   "language": "python",
   "name": "python3"
  },
  "language_info": {
   "codemirror_mode": {
    "name": "ipython",
    "version": 3
   },
   "file_extension": ".py",
   "mimetype": "text/x-python",
   "name": "python",
   "nbconvert_exporter": "python",
   "pygments_lexer": "ipython3",
   "version": "3.7.12"
  },
  "papermill": {
   "default_parameters": {},
   "duration": 20.927715,
   "end_time": "2023-02-11T23:18:35.724128",
   "environment_variables": {},
   "exception": null,
   "input_path": "__notebook__.ipynb",
   "output_path": "__notebook__.ipynb",
   "parameters": {},
   "start_time": "2023-02-11T23:18:14.796413",
   "version": "2.3.4"
  }
 },
 "nbformat": 4,
 "nbformat_minor": 5
}
